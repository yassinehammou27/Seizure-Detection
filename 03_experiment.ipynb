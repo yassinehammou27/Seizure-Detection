{
 "cells": [
  {
   "cell_type": "markdown",
   "metadata": {},
   "source": [
    "# PCA and multiple time slices as input"
   ]
  },
  {
   "cell_type": "markdown",
   "metadata": {},
   "source": [
    "In this experiment we want to reduce dimensionality of our input features using PCA.\n",
    "\n",
    "Besides that we will try to use multiple time slices as an input for our XGBoost model."
   ]
  },
  {
   "cell_type": "code",
   "execution_count": 52,
   "metadata": {},
   "outputs": [],
   "source": [
    "import pandas as pd\n",
    "import seaborn as sns\n",
    "import shap\n",
    "from matplotlib import pyplot as plt\n",
    "import monipy.utils.database as database\n",
    "from sklearn.model_selection import train_test_split, GridSearchCV\n",
    "from xgboost import XGBClassifier\n",
    "from sklearn.metrics import accuracy_score, confusion_matrix, classification_report, recall_score\n",
    "from sklearn.inspection import permutation_importance\n",
    "from sklearn.decomposition import PCA\n",
    "from sklearn.preprocessing import StandardScaler"
   ]
  },
  {
   "cell_type": "markdown",
   "metadata": {},
   "source": [
    "### 1. Helping Functions"
   ]
  },
  {
   "cell_type": "code",
   "execution_count": 53,
   "metadata": {},
   "outputs": [],
   "source": [
    "def load_and_prep_data(window=0, data_filter=4):\n",
    "    # load data\n",
    "    df = pd.concat([pd.read_csv(f\"data/useable_yes_unknown/filter_{data_filter}/sandor_full.csv\", index_col=[0]),\n",
    "              pd.read_csv(f\"data/useable_yes/filter_{data_filter}/ukt_full.csv\", index_col=[0]),\n",
    "              pd.read_csv(f\"data/useable_yes/filter_{data_filter}/freiburg_full.csv\", index_col=[0]),\n",
    "              pd.read_csv(f\"data/useable_yes/filter_{data_filter}/uka_corvolution_full.csv\", index_col=[0]),\n",
    "              pd.read_csv(f\"data/useable_yes/filter_{data_filter}/uka_klinik_full.csv\", index_col=[0]),\n",
    "              ])\n",
    "    \n",
    "    # rename column\n",
    "    df = df.rename(columns={\"window_Unnamed: 2093_level_1\": \"window\"})\n",
    "    \n",
    "    # filter for one starting window\n",
    "    df = df[df[\"window\"] == window]\n",
    "    \n",
    "    # get patient specific columns\n",
    "    df_patients_columns = database.get_all_patients().columns\n",
    "    \n",
    "    # drop patient specific columns and other columns\n",
    "    df = df.drop(columns = list(df_patients_columns))\n",
    "\n",
    "    columns = [\"seizure_id_Unnamed: 2091_level_1\", \n",
    "           \"record_id\", \"window\", \n",
    "           \"timestamp_start_Unnamed: 2094_level_1\"]\n",
    "    df = df.drop(columns=columns)\n",
    "\n",
    "    return df"
   ]
  },
  {
   "cell_type": "code",
   "execution_count": 54,
   "metadata": {},
   "outputs": [],
   "source": [
    "def train_test_val_split(df):\n",
    "    # split the data val, test, train\n",
    "    val_patients = pd.read_csv(\"data/patients/val_patients_1.csv\", index_col=[0]).reset_index(drop=True)\n",
    "    test_patients = pd.read_csv(\"data/patients/test_patients_1.csv\", index_col=[0]).reset_index(drop=True)\n",
    "    \n",
    "    df_val = df[df[\"patient_id\"].isin(val_patients.iloc[:, 0])].reset_index(drop=True)\n",
    "    df_test = df[df[\"patient_id\"].isin(test_patients.iloc[:, 0])].reset_index(drop=True)\n",
    "    df_train = df[~(df[\"patient_id\"].isin(set(val_patients.iloc[:, 0]) | set(test_patients.iloc[:, 0])))].reset_index(drop=True)\n",
    "    return df_val, df_test, df_train"
   ]
  },
  {
   "cell_type": "code",
   "execution_count": 55,
   "metadata": {},
   "outputs": [],
   "source": [
    "def create_splits(df_train, df_test, df_val, features, time_slice=0):\n",
    "    data_split = {}\n",
    "    for split in [\"val\", \"test\", \"train\"]:\n",
    "        data_split[f\"X_{split}\"] = eval(f\"df_{split}\")[[f\"{feature}_{time_slice}\" for feature in features]]\n",
    "        data_split[f\"y_{split}\"] = eval(f\"df_{split}\")[[\"seizure\"]]\n",
    "    return data_split[\"X_train\"], data_split[\"y_train\"], data_split[\"X_test\"], data_split[\"y_test\"], data_split[\"X_val\"], data_split[\"y_val\"]"
   ]
  },
  {
   "cell_type": "code",
   "execution_count": 56,
   "metadata": {},
   "outputs": [],
   "source": [
    "# fit xgboost model\n",
    "def fit_and_eval(X_train, y_train, X_test, y_test):\n",
    "    # Define initial hyperparameters\n",
    "    params = {\n",
    "        'objective': 'binary:logistic',  # Binary classification objective\n",
    "        'learning_rate': 0.1,  # Learning rate\n",
    "        'max_depth': 7, # Maximum depth of each tree\n",
    "        'n_estimators': 300,\n",
    "        'subsample': 0.8,  # Subsample ratio of the training instances\n",
    "        'colsample_bytree': 0.8,  # Subsample ratio of features when constructing each tree\n",
    "        'scale_pos_weight': 0.9,\n",
    "    }\n",
    "\n",
    "    # Create the XGBoost classifier\n",
    "    model = XGBClassifier(**params)\n",
    "\n",
    "    # Train the XGBoost model\n",
    "    model.fit(X_train, y_train)\n",
    "\n",
    "    # Predict on the test set\n",
    "    y_pred = model.predict(X_test)\n",
    "\n",
    "    # return evaluation\n",
    "    return model, (accuracy_score(y_test, y_pred), confusion_matrix(y_test, y_pred), classification_report(y_test, y_pred),recall_score(y_test, y_pred),recall_score(y_test, y_pred, pos_label=0))"
   ]
  },
  {
   "cell_type": "code",
   "execution_count": 57,
   "metadata": {},
   "outputs": [],
   "source": [
    "features = {'avg',\n",
    " 'csi',\n",
    " 'csi_filtered',\n",
    " 'csi_filtered_slope',\n",
    " 'csi_slope',\n",
    " 'csim',\n",
    " 'csim_filtered',\n",
    " 'csim_filtered_slope',\n",
    " 'csim_slope',\n",
    " 'cvi',\n",
    " 'hf',\n",
    " 'hr_diff',\n",
    " 'hr_diff_filtered',\n",
    " 'hr_diff_filtered_slope',\n",
    " 'hr_diff_slope',\n",
    " 'kurt',\n",
    " 'lf',\n",
    " 'lf_hf_ratio',\n",
    " 'mf_coef_center',\n",
    " 'mf_coef_left',\n",
    " 'mf_coef_right',\n",
    " 'mf_hurst_max',\n",
    " 'nnx',\n",
    " 'pnnx',\n",
    " 'quantile_25',\n",
    " 'quantile_50',\n",
    " 'quantile_75',\n",
    " 'rmssd',\n",
    " 'rmssd_dt',\n",
    " 'sd',\n",
    " 'sd1',\n",
    " 'sd2',\n",
    " 'skew',\n",
    " 'total_power',\n",
    " 'triangular_index',\n",
    " 'ulf',\n",
    " 'variance',\n",
    " 'vlf'}"
   ]
  },
  {
   "cell_type": "markdown",
   "metadata": {},
   "source": [
    "### 2. Load Data"
   ]
  },
  {
   "cell_type": "code",
   "execution_count": 58,
   "metadata": {},
   "outputs": [
    {
     "name": "stdout",
     "output_type": "stream",
     "text": [
      "[creating new connection]\n",
      "(3320, 2092)\n"
     ]
    }
   ],
   "source": [
    "df = load_and_prep_data()\n",
    "print(df.shape)\n",
    "df_val, df_test, df_train = train_test_val_split(df)"
   ]
  },
  {
   "cell_type": "markdown",
   "metadata": {},
   "source": [
    "### 3. First time slice as input"
   ]
  },
  {
   "cell_type": "markdown",
   "metadata": {},
   "source": [
    "#### 3.1. Test PCA for first time slice\n"
   ]
  },
  {
   "cell_type": "code",
   "execution_count": 59,
   "metadata": {},
   "outputs": [],
   "source": [
    "X_train, y_train, X_test, y_test, X_val, y_val = create_splits(df_train, df_test, df_val, features, 0)"
   ]
  },
  {
   "cell_type": "code",
   "execution_count": 60,
   "metadata": {},
   "outputs": [],
   "source": [
    "scaler = StandardScaler()\n",
    "X_train_norm = scaler.fit_transform(X_train)"
   ]
  },
  {
   "cell_type": "code",
   "execution_count": 61,
   "id": "9a5f5878-8abb-4fa2-b68d-c1e5f298dbe1",
   "metadata": {},
   "outputs": [],
   "source": [
    "scaler = StandardScaler()\n",
    "X_test_norm = scaler.fit_transform(X_test)"
   ]
  },
  {
   "cell_type": "code",
   "execution_count": 62,
   "id": "4a3ce074-aa83-4682-a918-88c8ec07a4c6",
   "metadata": {},
   "outputs": [],
   "source": [
    "scaler = StandardScaler()\n",
    "X_val_norm = scaler.fit_transform(X_val)"
   ]
  },
  {
   "cell_type": "code",
   "execution_count": 63,
   "id": "b736d449-b58c-4489-a26d-c6b3ab6910a5",
   "metadata": {},
   "outputs": [],
   "source": [
    "pca = PCA(n_components=2)\n",
    "pca.fit(X_train_norm)\n",
    "pca_train = pca.transform(X_train_norm)\n",
    "pca_train_df = pd.DataFrame(pca_train)"
   ]
  },
  {
   "cell_type": "code",
   "execution_count": 64,
   "id": "e9a527b3-d964-4aba-bf73-ee471c660e6a",
   "metadata": {},
   "outputs": [],
   "source": [
    "pca = PCA(n_components=2)\n",
    "pca.fit(X_test_norm)\n",
    "pca_test = pca.transform(X_test_norm)\n",
    "pca_test_df = pd.DataFrame(pca_test)"
   ]
  },
  {
   "cell_type": "code",
   "execution_count": 65,
   "id": "f63afdff-b4fd-479d-8555-946eb6ddfbc4",
   "metadata": {
    "tags": []
   },
   "outputs": [],
   "source": [
    "# fit model for using principal components\n",
    "model, (accuracy, cm, cr, recall_1, recall_0) = fit_and_eval(pca_train_df, y_train, pca_test_df, y_test)"
   ]
  },
  {
   "cell_type": "code",
   "execution_count": 66,
   "id": "7bad56b5-ab6a-48ee-992b-308eb41b37de",
   "metadata": {},
   "outputs": [
    {
     "name": "stdout",
     "output_type": "stream",
     "text": [
      "              precision    recall  f1-score   support\n",
      "\n",
      "           0       0.82      1.00      0.90       296\n",
      "           1       0.98      0.44      0.61       115\n",
      "\n",
      "    accuracy                           0.84       411\n",
      "   macro avg       0.90      0.72      0.76       411\n",
      "weighted avg       0.87      0.84      0.82       411\n",
      "\n"
     ]
    }
   ],
   "source": [
    "print(cr)"
   ]
  },
  {
   "cell_type": "code",
   "execution_count": 67,
   "id": "06ff3475-c606-468f-9a67-36ccfd0363a1",
   "metadata": {},
   "outputs": [],
   "source": [
    "model, (accuracy, cm, cr, recall_1, recall_0) = fit_and_eval(X_train, y_train, X_test, y_test)"
   ]
  },
  {
   "cell_type": "code",
   "execution_count": 68,
   "id": "48f7bd7c-737d-47cf-831c-1bd92bd15b0f",
   "metadata": {},
   "outputs": [
    {
     "name": "stdout",
     "output_type": "stream",
     "text": [
      "              precision    recall  f1-score   support\n",
      "\n",
      "           0       0.92      0.99      0.95       296\n",
      "           1       0.96      0.78      0.86       115\n",
      "\n",
      "    accuracy                           0.93       411\n",
      "   macro avg       0.94      0.88      0.91       411\n",
      "weighted avg       0.93      0.93      0.93       411\n",
      "\n"
     ]
    }
   ],
   "source": [
    "print(cr)"
   ]
  },
  {
   "cell_type": "markdown",
   "metadata": {},
   "source": [
    "#### 3.2. Test different numbers of PCA components"
   ]
  },
  {
   "cell_type": "code",
   "execution_count": 69,
   "id": "7bd3d824-403c-4c5f-8afa-c4c50d88763b",
   "metadata": {},
   "outputs": [
    {
     "name": "stdout",
     "output_type": "stream",
     "text": [
      "[creating new connection]\n"
     ]
    }
   ],
   "source": [
    "df = load_and_prep_data()\n",
    "df_val, df_test, df_train = train_test_val_split(df)\n",
    "\n",
    "X_train, y_train, X_test, y_test, X_val, y_val = create_splits(df_train, df_test, df_val, features, 0)\n",
    "\n",
    "scaler = StandardScaler()\n",
    "X_train_norm = scaler.fit_transform(X_train)\n",
    "scaler = StandardScaler()\n",
    "X_test_norm = scaler.fit_transform(X_test)\n",
    "scaler = StandardScaler()\n",
    "X_val_norm = scaler.fit_transform(X_val)\n",
    "\n",
    "pca_performance = []\n",
    "\n",
    "for i in range(1,6,1):\n",
    "    pca = PCA(n_components=i)\n",
    "    pca.fit(X_train_norm)\n",
    "    pca_train = pca.transform(X_train_norm)\n",
    "    pca_train_df = pd.DataFrame(pca_train)\n",
    "\n",
    "    pca = PCA(n_components=i)\n",
    "    pca.fit(X_test_norm)\n",
    "    pca_test = pca.transform(X_test_norm)\n",
    "    pca_test_df = pd.DataFrame(pca_test)\n",
    "\n",
    "    model, (accuracy, cm, cr, recall_1, recall_0) = fit_and_eval(pca_train_df, y_train, pca_test_df, y_test)\n",
    "    \n",
    "    pca_performance.append(\n",
    "        {\n",
    "        \"n_components\": i,\n",
    "        \"accuracy\": accuracy,\n",
    "        \"confusion_matrix\": cm,\n",
    "        \"report\": cr,\n",
    "        \"recall_1\": recall_1,\n",
    "        \"recall_0\": recall_0\n",
    "        }\n",
    "    )"
   ]
  },
  {
   "cell_type": "code",
   "execution_count": 70,
   "id": "6d7709fb-3d4c-449e-8bab-0dc0ec19cd99",
   "metadata": {},
   "outputs": [],
   "source": [
    "df_pca_performance = pd.DataFrame(pca_performance)"
   ]
  },
  {
   "cell_type": "code",
   "execution_count": 71,
   "id": "cc3a3146-d405-4eba-b068-c1c10f5a3a65",
   "metadata": {},
   "outputs": [
    {
     "data": {
      "text/html": [
       "<div>\n",
       "<style scoped>\n",
       "    .dataframe tbody tr th:only-of-type {\n",
       "        vertical-align: middle;\n",
       "    }\n",
       "\n",
       "    .dataframe tbody tr th {\n",
       "        vertical-align: top;\n",
       "    }\n",
       "\n",
       "    .dataframe thead th {\n",
       "        text-align: right;\n",
       "    }\n",
       "</style>\n",
       "<table border=\"1\" class=\"dataframe\">\n",
       "  <thead>\n",
       "    <tr style=\"text-align: right;\">\n",
       "      <th></th>\n",
       "      <th>n_components</th>\n",
       "      <th>accuracy</th>\n",
       "      <th>confusion_matrix</th>\n",
       "      <th>report</th>\n",
       "      <th>recall_1</th>\n",
       "      <th>recall_0</th>\n",
       "    </tr>\n",
       "  </thead>\n",
       "  <tbody>\n",
       "    <tr>\n",
       "      <th>0</th>\n",
       "      <td>1</td>\n",
       "      <td>0.849148</td>\n",
       "      <td>[[295, 1], [61, 54]]</td>\n",
       "      <td>precision    recall  f1-score   ...</td>\n",
       "      <td>0.469565</td>\n",
       "      <td>0.996622</td>\n",
       "    </tr>\n",
       "    <tr>\n",
       "      <th>1</th>\n",
       "      <td>2</td>\n",
       "      <td>0.841849</td>\n",
       "      <td>[[295, 1], [64, 51]]</td>\n",
       "      <td>precision    recall  f1-score   ...</td>\n",
       "      <td>0.443478</td>\n",
       "      <td>0.996622</td>\n",
       "    </tr>\n",
       "    <tr>\n",
       "      <th>2</th>\n",
       "      <td>3</td>\n",
       "      <td>0.798054</td>\n",
       "      <td>[[296, 0], [83, 32]]</td>\n",
       "      <td>precision    recall  f1-score   ...</td>\n",
       "      <td>0.278261</td>\n",
       "      <td>1.000000</td>\n",
       "    </tr>\n",
       "    <tr>\n",
       "      <th>3</th>\n",
       "      <td>4</td>\n",
       "      <td>0.800487</td>\n",
       "      <td>[[295, 1], [81, 34]]</td>\n",
       "      <td>precision    recall  f1-score   ...</td>\n",
       "      <td>0.295652</td>\n",
       "      <td>0.996622</td>\n",
       "    </tr>\n",
       "    <tr>\n",
       "      <th>4</th>\n",
       "      <td>5</td>\n",
       "      <td>0.802920</td>\n",
       "      <td>[[296, 0], [81, 34]]</td>\n",
       "      <td>precision    recall  f1-score   ...</td>\n",
       "      <td>0.295652</td>\n",
       "      <td>1.000000</td>\n",
       "    </tr>\n",
       "  </tbody>\n",
       "</table>\n",
       "</div>"
      ],
      "text/plain": [
       "   n_components  accuracy      confusion_matrix   \n",
       "0             1  0.849148  [[295, 1], [61, 54]]  \\\n",
       "1             2  0.841849  [[295, 1], [64, 51]]   \n",
       "2             3  0.798054  [[296, 0], [83, 32]]   \n",
       "3             4  0.800487  [[295, 1], [81, 34]]   \n",
       "4             5  0.802920  [[296, 0], [81, 34]]   \n",
       "\n",
       "                                              report  recall_1  recall_0  \n",
       "0                precision    recall  f1-score   ...  0.469565  0.996622  \n",
       "1                precision    recall  f1-score   ...  0.443478  0.996622  \n",
       "2                precision    recall  f1-score   ...  0.278261  1.000000  \n",
       "3                precision    recall  f1-score   ...  0.295652  0.996622  \n",
       "4                precision    recall  f1-score   ...  0.295652  1.000000  "
      ]
     },
     "execution_count": 71,
     "metadata": {},
     "output_type": "execute_result"
    }
   ],
   "source": [
    "df_pca_performance"
   ]
  },
  {
   "cell_type": "code",
   "execution_count": 72,
   "id": "d75210ce-b239-40c4-88a4-7bc0a1a31799",
   "metadata": {},
   "outputs": [
    {
     "data": {
      "image/png": "[encoded data removed]",
      "text/plain": [
       "<Figure size 3000x1000 with 3 Axes>"
      ]
     },
     "metadata": {},
     "output_type": "display_data"
    }
   ],
   "source": [
    "fig, (ax1, ax2, ax3) = plt.subplots(nrows=1, ncols=3, figsize=(30,10))\n",
    "\n",
    "ax1.bar(df_pca_performance[\"n_components\"], df_pca_performance[\"accuracy\"])\n",
    "ax1.set_xlabel(\"time slices\")\n",
    "ax1.set_ylabel(\"accuracy\")\n",
    "\n",
    "ax2.bar(df_pca_performance[\"n_components\"], df_pca_performance[\"recall_1\"])\n",
    "ax2.set_xlabel(\"time slices\")\n",
    "ax2.set_ylabel(\"recall\")\n",
    "\n",
    "ax3.bar(df_pca_performance[\"n_components\"], df_pca_performance[\"recall_0\"])\n",
    "ax3.set_xlabel(\"time slices\")\n",
    "ax3.set_ylabel(\"recall\")\n",
    "\n",
    "fig.savefig(\"pca_eval.png\")"
   ]
  },
  {
   "cell_type": "markdown",
   "metadata": {},
   "source": [
    "### 4. All time slices as input"
   ]
  },
  {
   "cell_type": "markdown",
   "metadata": {},
   "source": [
    "##### 4.1. Test PCA for all time slices as input"
   ]
  },
  {
   "cell_type": "code",
   "execution_count": 73,
   "id": "678c8c99-7871-480d-a433-06610e293ed1",
   "metadata": {},
   "outputs": [
    {
     "name": "stdout",
     "output_type": "stream",
     "text": [
      "[creating new connection]\n"
     ]
    }
   ],
   "source": [
    "df = load_and_prep_data()\n",
    "df_val, df_test, df_train = train_test_val_split(df)"
   ]
  },
  {
   "cell_type": "code",
   "execution_count": 74,
   "id": "12a2baba-5cdb-4a5c-a155-3a301dcaa705",
   "metadata": {},
   "outputs": [],
   "source": [
    "X_train = df_train.drop(columns=[\"seizure\", \"patient_id\"])\n",
    "y_train = df_train.seizure\n",
    "\n",
    "X_test = df_test.drop(columns=[\"seizure\", \"patient_id\"])\n",
    "y_test = df_test.seizure\n",
    "\n",
    "X_val = df_val.drop(columns=[\"seizure\", \"patient_id\"])\n",
    "y_val = df_val.seizure"
   ]
  },
  {
   "cell_type": "code",
   "execution_count": 75,
   "id": "013f80f1-cc51-477d-add2-531850e6f134",
   "metadata": {},
   "outputs": [],
   "source": [
    "scaler = StandardScaler()\n",
    "X_train_norm = scaler.fit_transform(X_train)\n",
    "\n",
    "scaler = StandardScaler()\n",
    "X_test_norm = scaler.fit_transform(X_test)\n",
    "\n",
    "scaler = StandardScaler()\n",
    "X_val_norm = scaler.fit_transform(X_val)"
   ]
  },
  {
   "cell_type": "code",
   "execution_count": 76,
   "id": "afa0a03e-8926-44b4-a3f7-04d1f5151ad7",
   "metadata": {},
   "outputs": [],
   "source": [
    "pca = PCA(n_components=2)\n",
    "pca.fit(X_train_norm)\n",
    "pca_train = pca.transform(X_train_norm)\n",
    "pca_train_df = pd.DataFrame(pca_train)"
   ]
  },
  {
   "cell_type": "code",
   "execution_count": 77,
   "id": "6d56f8c0-492e-444e-b2ee-4175e6438c92",
   "metadata": {},
   "outputs": [],
   "source": [
    "pca = PCA(n_components=2)\n",
    "pca.fit(X_test_norm)\n",
    "pca_test = pca.transform(X_test_norm)\n",
    "pca_test_df = pd.DataFrame(pca_test)"
   ]
  },
  {
   "cell_type": "code",
   "execution_count": 78,
   "id": "38ef6e63-1df4-4da4-a87d-f4f0116da8b3",
   "metadata": {},
   "outputs": [],
   "source": [
    "model, (accuracy, cm, cr, recall_1, recall_0) = fit_and_eval(pca_train, y_train, pca_test, y_test)"
   ]
  },
  {
   "cell_type": "code",
   "execution_count": 79,
   "id": "c414a80f-72e5-4ea0-955b-4b537410260e",
   "metadata": {},
   "outputs": [
    {
     "name": "stdout",
     "output_type": "stream",
     "text": [
      "              precision    recall  f1-score   support\n",
      "\n",
      "           0       0.75      0.97      0.84       296\n",
      "           1       0.66      0.17      0.26       115\n",
      "\n",
      "    accuracy                           0.74       411\n",
      "   macro avg       0.70      0.57      0.55       411\n",
      "weighted avg       0.72      0.74      0.68       411\n",
      "\n"
     ]
    }
   ],
   "source": [
    "print(cr)"
   ]
  },
  {
   "cell_type": "code",
   "execution_count": 80,
   "id": "45a71cfb-87d8-424f-b540-81d3c5884729",
   "metadata": {},
   "outputs": [
    {
     "name": "stdout",
     "output_type": "stream",
     "text": [
      "[[286  10]\n",
      " [ 96  19]]\n"
     ]
    }
   ],
   "source": [
    "print(cm)"
   ]
  },
  {
   "cell_type": "code",
   "execution_count": 81,
   "id": "6a111312-e6a7-4307-99ee-3d2407cd1376",
   "metadata": {},
   "outputs": [],
   "source": [
    "model, (accuracy, cm, cr, recall_1, recall_0) = fit_and_eval(X_train, y_train, X_test, y_test)"
   ]
  },
  {
   "cell_type": "code",
   "execution_count": 82,
   "id": "6b769620-8d9d-4426-a3a8-e82aaec7739e",
   "metadata": {},
   "outputs": [
    {
     "name": "stdout",
     "output_type": "stream",
     "text": [
      "              precision    recall  f1-score   support\n",
      "\n",
      "           0       0.90      1.00      0.95       296\n",
      "           1       0.99      0.71      0.83       115\n",
      "\n",
      "    accuracy                           0.92       411\n",
      "   macro avg       0.94      0.85      0.89       411\n",
      "weighted avg       0.92      0.92      0.91       411\n",
      "\n"
     ]
    }
   ],
   "source": [
    "print(cr)"
   ]
  },
  {
   "cell_type": "code",
   "execution_count": 83,
   "id": "f191614b-d3cf-4275-bed1-a773be71b789",
   "metadata": {},
   "outputs": [
    {
     "name": "stdout",
     "output_type": "stream",
     "text": [
      "[[295   1]\n",
      " [ 33  82]]\n"
     ]
    }
   ],
   "source": [
    "print(cm)"
   ]
  },
  {
   "cell_type": "code",
   "execution_count": 84,
   "id": "392b7e60-2900-43a2-828c-3f49211b71d7",
   "metadata": {},
   "outputs": [],
   "source": [
    "df_feature_importance = pd.DataFrame({\n",
    "        \"features\": X_train.columns,\n",
    "        \"importance\": model.feature_importances_\n",
    "    })"
   ]
  },
  {
   "cell_type": "code",
   "execution_count": 85,
   "id": "209d6f07-ec30-4ab2-b468-d51916d15afe",
   "metadata": {},
   "outputs": [],
   "source": [
    "df_feature_importance = df_feature_importance.sort_values(by=\"importance\", ascending=False).reset_index(drop=True)"
   ]
  },
  {
   "cell_type": "code",
   "execution_count": 86,
   "id": "a802e58f-c03c-43f3-844f-6c97e83c530b",
   "metadata": {
    "collapsed": true,
    "jupyter": {
     "outputs_hidden": true
    },
    "tags": []
   },
   "outputs": [
    {
     "data": {
      "text/html": [
       "<div>\n",
       "<style scoped>\n",
       "    .dataframe tbody tr th:only-of-type {\n",
       "        vertical-align: middle;\n",
       "    }\n",
       "\n",
       "    .dataframe tbody tr th {\n",
       "        vertical-align: top;\n",
       "    }\n",
       "\n",
       "    .dataframe thead th {\n",
       "        text-align: right;\n",
       "    }\n",
       "</style>\n",
       "<table border=\"1\" class=\"dataframe\">\n",
       "  <thead>\n",
       "    <tr style=\"text-align: right;\">\n",
       "      <th></th>\n",
       "      <th>features</th>\n",
       "      <th>importance</th>\n",
       "    </tr>\n",
       "  </thead>\n",
       "  <tbody>\n",
       "    <tr>\n",
       "      <th>0</th>\n",
       "      <td>csim_0</td>\n",
       "      <td>0.013950</td>\n",
       "    </tr>\n",
       "    <tr>\n",
       "      <th>1</th>\n",
       "      <td>csi_13</td>\n",
       "      <td>0.012451</td>\n",
       "    </tr>\n",
       "    <tr>\n",
       "      <th>2</th>\n",
       "      <td>csi_0</td>\n",
       "      <td>0.012171</td>\n",
       "    </tr>\n",
       "    <tr>\n",
       "      <th>3</th>\n",
       "      <td>pnnx_3</td>\n",
       "      <td>0.010723</td>\n",
       "    </tr>\n",
       "    <tr>\n",
       "      <th>4</th>\n",
       "      <td>hr_diff_13</td>\n",
       "      <td>0.009846</td>\n",
       "    </tr>\n",
       "    <tr>\n",
       "      <th>5</th>\n",
       "      <td>mf_coef_center_23</td>\n",
       "      <td>0.007149</td>\n",
       "    </tr>\n",
       "    <tr>\n",
       "      <th>6</th>\n",
       "      <td>rmssd_1</td>\n",
       "      <td>0.007119</td>\n",
       "    </tr>\n",
       "    <tr>\n",
       "      <th>7</th>\n",
       "      <td>csim_slope_49</td>\n",
       "      <td>0.006981</td>\n",
       "    </tr>\n",
       "    <tr>\n",
       "      <th>8</th>\n",
       "      <td>vlf_23</td>\n",
       "      <td>0.006869</td>\n",
       "    </tr>\n",
       "    <tr>\n",
       "      <th>9</th>\n",
       "      <td>quantile_50_28</td>\n",
       "      <td>0.006818</td>\n",
       "    </tr>\n",
       "    <tr>\n",
       "      <th>10</th>\n",
       "      <td>hf_2</td>\n",
       "      <td>0.006761</td>\n",
       "    </tr>\n",
       "    <tr>\n",
       "      <th>11</th>\n",
       "      <td>hr_diff_0</td>\n",
       "      <td>0.006275</td>\n",
       "    </tr>\n",
       "    <tr>\n",
       "      <th>12</th>\n",
       "      <td>quantile_25_12</td>\n",
       "      <td>0.005884</td>\n",
       "    </tr>\n",
       "    <tr>\n",
       "      <th>13</th>\n",
       "      <td>hf_13</td>\n",
       "      <td>0.005873</td>\n",
       "    </tr>\n",
       "    <tr>\n",
       "      <th>14</th>\n",
       "      <td>vlf_4</td>\n",
       "      <td>0.005726</td>\n",
       "    </tr>\n",
       "    <tr>\n",
       "      <th>15</th>\n",
       "      <td>csim_filtered_5</td>\n",
       "      <td>0.005514</td>\n",
       "    </tr>\n",
       "    <tr>\n",
       "      <th>16</th>\n",
       "      <td>sd2_15</td>\n",
       "      <td>0.005340</td>\n",
       "    </tr>\n",
       "    <tr>\n",
       "      <th>17</th>\n",
       "      <td>hr_diff_filtered_26</td>\n",
       "      <td>0.005298</td>\n",
       "    </tr>\n",
       "    <tr>\n",
       "      <th>18</th>\n",
       "      <td>sd1_15</td>\n",
       "      <td>0.005190</td>\n",
       "    </tr>\n",
       "    <tr>\n",
       "      <th>19</th>\n",
       "      <td>total_power_30</td>\n",
       "      <td>0.005131</td>\n",
       "    </tr>\n",
       "    <tr>\n",
       "      <th>20</th>\n",
       "      <td>csim_filtered_slope_9</td>\n",
       "      <td>0.004963</td>\n",
       "    </tr>\n",
       "    <tr>\n",
       "      <th>21</th>\n",
       "      <td>csi_filtered_6</td>\n",
       "      <td>0.004952</td>\n",
       "    </tr>\n",
       "    <tr>\n",
       "      <th>22</th>\n",
       "      <td>total_power_20</td>\n",
       "      <td>0.004913</td>\n",
       "    </tr>\n",
       "    <tr>\n",
       "      <th>23</th>\n",
       "      <td>cvi_26</td>\n",
       "      <td>0.004739</td>\n",
       "    </tr>\n",
       "    <tr>\n",
       "      <th>24</th>\n",
       "      <td>sd2_46</td>\n",
       "      <td>0.004729</td>\n",
       "    </tr>\n",
       "    <tr>\n",
       "      <th>25</th>\n",
       "      <td>quantile_25_20</td>\n",
       "      <td>0.004691</td>\n",
       "    </tr>\n",
       "    <tr>\n",
       "      <th>26</th>\n",
       "      <td>csi_slope_32</td>\n",
       "      <td>0.004640</td>\n",
       "    </tr>\n",
       "    <tr>\n",
       "      <th>27</th>\n",
       "      <td>csi_18</td>\n",
       "      <td>0.004539</td>\n",
       "    </tr>\n",
       "    <tr>\n",
       "      <th>28</th>\n",
       "      <td>avg_20</td>\n",
       "      <td>0.004383</td>\n",
       "    </tr>\n",
       "    <tr>\n",
       "      <th>29</th>\n",
       "      <td>csi_14</td>\n",
       "      <td>0.004235</td>\n",
       "    </tr>\n",
       "  </tbody>\n",
       "</table>\n",
       "</div>"
      ],
      "text/plain": [
       "                 features  importance\n",
       "0                  csim_0    0.013950\n",
       "1                  csi_13    0.012451\n",
       "2                   csi_0    0.012171\n",
       "3                  pnnx_3    0.010723\n",
       "4              hr_diff_13    0.009846\n",
       "5       mf_coef_center_23    0.007149\n",
       "6                 rmssd_1    0.007119\n",
       "7           csim_slope_49    0.006981\n",
       "8                  vlf_23    0.006869\n",
       "9          quantile_50_28    0.006818\n",
       "10                   hf_2    0.006761\n",
       "11              hr_diff_0    0.006275\n",
       "12         quantile_25_12    0.005884\n",
       "13                  hf_13    0.005873\n",
       "14                  vlf_4    0.005726\n",
       "15        csim_filtered_5    0.005514\n",
       "16                 sd2_15    0.005340\n",
       "17    hr_diff_filtered_26    0.005298\n",
       "18                 sd1_15    0.005190\n",
       "19         total_power_30    0.005131\n",
       "20  csim_filtered_slope_9    0.004963\n",
       "21         csi_filtered_6    0.004952\n",
       "22         total_power_20    0.004913\n",
       "23                 cvi_26    0.004739\n",
       "24                 sd2_46    0.004729\n",
       "25         quantile_25_20    0.004691\n",
       "26           csi_slope_32    0.004640\n",
       "27                 csi_18    0.004539\n",
       "28                 avg_20    0.004383\n",
       "29                 csi_14    0.004235"
      ]
     },
     "execution_count": 86,
     "metadata": {},
     "output_type": "execute_result"
    }
   ],
   "source": [
    "df_feature_importance.head(30)"
   ]
  },
  {
   "cell_type": "markdown",
   "metadata": {},
   "source": [
    "##### 4.2. Try different number of PCA components"
   ]
  },
  {
   "cell_type": "code",
   "execution_count": 87,
   "id": "531e1fb3-de6a-425a-bc5a-851121ab3892",
   "metadata": {},
   "outputs": [
    {
     "name": "stdout",
     "output_type": "stream",
     "text": [
      "[creating new connection]\n"
     ]
    }
   ],
   "source": [
    "df = load_and_prep_data()\n",
    "df_val, df_test, df_train = train_test_val_split(df)\n",
    "\n",
    "X_train = df_train.drop(columns=[\"seizure\", \"patient_id\"])\n",
    "y_train = df_train.seizure\n",
    "\n",
    "X_test = df_test.drop(columns=[\"seizure\", \"patient_id\"])\n",
    "y_test = df_test.seizure\n",
    "\n",
    "X_val = df_val.drop(columns=[\"seizure\", \"patient_id\"])\n",
    "y_val = df_val.seizure\n",
    "\n",
    "scaler = StandardScaler()\n",
    "X_train_norm = scaler.fit_transform(X_train)\n",
    "scaler = StandardScaler()\n",
    "X_test_norm = scaler.fit_transform(X_test)\n",
    "scaler = StandardScaler()\n",
    "X_val_norm = scaler.fit_transform(X_val)\n",
    "\n",
    "pca_performance = []\n",
    "\n",
    "for i in range(1,16,1):\n",
    "    pca = PCA(n_components=i)\n",
    "    pca.fit(X_train_norm)\n",
    "    pca_train = pca.transform(X_train_norm)\n",
    "    pca_train_df = pd.DataFrame(pca_train)\n",
    "\n",
    "    pca = PCA(n_components=i)\n",
    "    pca.fit(X_test_norm)\n",
    "    pca_test = pca.transform(X_test_norm)\n",
    "    pca_test_df = pd.DataFrame(pca_test)\n",
    "\n",
    "    model, (accuracy, cm, cr, recall_1, recall_0) = fit_and_eval(pca_train_df, y_train, pca_test_df, y_test)\n",
    "    \n",
    "    pca_performance.append(\n",
    "        {\n",
    "        \"n_components\": i,\n",
    "        \"accuracy\": accuracy,\n",
    "        \"confusion_matrix\": cm,\n",
    "        \"report\": cr,\n",
    "        \"recall_1\": recall_1,\n",
    "        \"recall_0\": recall_0\n",
    "        }\n",
    "    )"
   ]
  },
  {
   "cell_type": "code",
   "execution_count": 88,
   "id": "bf1bd06a-f377-43b8-98f6-0501703d949a",
   "metadata": {},
   "outputs": [],
   "source": [
    "df_pca_performance = pd.DataFrame(pca_performance)"
   ]
  },
  {
   "cell_type": "code",
   "execution_count": 89,
   "id": "8b6693d3-d5cb-4e6e-acf9-9bfa409e0c15",
   "metadata": {},
   "outputs": [
    {
     "data": {
      "text/html": [
       "<div>\n",
       "<style scoped>\n",
       "    .dataframe tbody tr th:only-of-type {\n",
       "        vertical-align: middle;\n",
       "    }\n",
       "\n",
       "    .dataframe tbody tr th {\n",
       "        vertical-align: top;\n",
       "    }\n",
       "\n",
       "    .dataframe thead th {\n",
       "        text-align: right;\n",
       "    }\n",
       "</style>\n",
       "<table border=\"1\" class=\"dataframe\">\n",
       "  <thead>\n",
       "    <tr style=\"text-align: right;\">\n",
       "      <th></th>\n",
       "      <th>n_components</th>\n",
       "      <th>accuracy</th>\n",
       "      <th>confusion_matrix</th>\n",
       "      <th>report</th>\n",
       "      <th>recall_1</th>\n",
       "      <th>recall_0</th>\n",
       "    </tr>\n",
       "  </thead>\n",
       "  <tbody>\n",
       "    <tr>\n",
       "      <th>0</th>\n",
       "      <td>1</td>\n",
       "      <td>0.715328</td>\n",
       "      <td>[[285, 11], [106, 9]]</td>\n",
       "      <td>precision    recall  f1-score   ...</td>\n",
       "      <td>0.078261</td>\n",
       "      <td>0.962838</td>\n",
       "    </tr>\n",
       "    <tr>\n",
       "      <th>1</th>\n",
       "      <td>2</td>\n",
       "      <td>0.742092</td>\n",
       "      <td>[[286, 10], [96, 19]]</td>\n",
       "      <td>precision    recall  f1-score   ...</td>\n",
       "      <td>0.165217</td>\n",
       "      <td>0.966216</td>\n",
       "    </tr>\n",
       "    <tr>\n",
       "      <th>2</th>\n",
       "      <td>3</td>\n",
       "      <td>0.776156</td>\n",
       "      <td>[[286, 10], [82, 33]]</td>\n",
       "      <td>precision    recall  f1-score   ...</td>\n",
       "      <td>0.286957</td>\n",
       "      <td>0.966216</td>\n",
       "    </tr>\n",
       "    <tr>\n",
       "      <th>3</th>\n",
       "      <td>4</td>\n",
       "      <td>0.783455</td>\n",
       "      <td>[[290, 6], [83, 32]]</td>\n",
       "      <td>precision    recall  f1-score   ...</td>\n",
       "      <td>0.278261</td>\n",
       "      <td>0.979730</td>\n",
       "    </tr>\n",
       "    <tr>\n",
       "      <th>4</th>\n",
       "      <td>5</td>\n",
       "      <td>0.778589</td>\n",
       "      <td>[[289, 7], [84, 31]]</td>\n",
       "      <td>precision    recall  f1-score   ...</td>\n",
       "      <td>0.269565</td>\n",
       "      <td>0.976351</td>\n",
       "    </tr>\n",
       "    <tr>\n",
       "      <th>5</th>\n",
       "      <td>6</td>\n",
       "      <td>0.759124</td>\n",
       "      <td>[[290, 6], [93, 22]]</td>\n",
       "      <td>precision    recall  f1-score   ...</td>\n",
       "      <td>0.191304</td>\n",
       "      <td>0.979730</td>\n",
       "    </tr>\n",
       "    <tr>\n",
       "      <th>6</th>\n",
       "      <td>7</td>\n",
       "      <td>0.763990</td>\n",
       "      <td>[[290, 6], [91, 24]]</td>\n",
       "      <td>precision    recall  f1-score   ...</td>\n",
       "      <td>0.208696</td>\n",
       "      <td>0.979730</td>\n",
       "    </tr>\n",
       "    <tr>\n",
       "      <th>7</th>\n",
       "      <td>8</td>\n",
       "      <td>0.768856</td>\n",
       "      <td>[[290, 6], [89, 26]]</td>\n",
       "      <td>precision    recall  f1-score   ...</td>\n",
       "      <td>0.226087</td>\n",
       "      <td>0.979730</td>\n",
       "    </tr>\n",
       "    <tr>\n",
       "      <th>8</th>\n",
       "      <td>9</td>\n",
       "      <td>0.756691</td>\n",
       "      <td>[[289, 7], [93, 22]]</td>\n",
       "      <td>precision    recall  f1-score   ...</td>\n",
       "      <td>0.191304</td>\n",
       "      <td>0.976351</td>\n",
       "    </tr>\n",
       "    <tr>\n",
       "      <th>9</th>\n",
       "      <td>10</td>\n",
       "      <td>0.754258</td>\n",
       "      <td>[[289, 7], [94, 21]]</td>\n",
       "      <td>precision    recall  f1-score   ...</td>\n",
       "      <td>0.182609</td>\n",
       "      <td>0.976351</td>\n",
       "    </tr>\n",
       "    <tr>\n",
       "      <th>10</th>\n",
       "      <td>11</td>\n",
       "      <td>0.751825</td>\n",
       "      <td>[[288, 8], [94, 21]]</td>\n",
       "      <td>precision    recall  f1-score   ...</td>\n",
       "      <td>0.182609</td>\n",
       "      <td>0.972973</td>\n",
       "    </tr>\n",
       "    <tr>\n",
       "      <th>11</th>\n",
       "      <td>12</td>\n",
       "      <td>0.742092</td>\n",
       "      <td>[[288, 8], [98, 17]]</td>\n",
       "      <td>precision    recall  f1-score   ...</td>\n",
       "      <td>0.147826</td>\n",
       "      <td>0.972973</td>\n",
       "    </tr>\n",
       "    <tr>\n",
       "      <th>12</th>\n",
       "      <td>13</td>\n",
       "      <td>0.749392</td>\n",
       "      <td>[[291, 5], [98, 17]]</td>\n",
       "      <td>precision    recall  f1-score   ...</td>\n",
       "      <td>0.147826</td>\n",
       "      <td>0.983108</td>\n",
       "    </tr>\n",
       "    <tr>\n",
       "      <th>13</th>\n",
       "      <td>14</td>\n",
       "      <td>0.749392</td>\n",
       "      <td>[[287, 9], [94, 21]]</td>\n",
       "      <td>precision    recall  f1-score   ...</td>\n",
       "      <td>0.182609</td>\n",
       "      <td>0.969595</td>\n",
       "    </tr>\n",
       "    <tr>\n",
       "      <th>14</th>\n",
       "      <td>15</td>\n",
       "      <td>0.746959</td>\n",
       "      <td>[[287, 9], [95, 20]]</td>\n",
       "      <td>precision    recall  f1-score   ...</td>\n",
       "      <td>0.173913</td>\n",
       "      <td>0.969595</td>\n",
       "    </tr>\n",
       "  </tbody>\n",
       "</table>\n",
       "</div>"
      ],
      "text/plain": [
       "    n_components  accuracy       confusion_matrix   \n",
       "0              1  0.715328  [[285, 11], [106, 9]]  \\\n",
       "1              2  0.742092  [[286, 10], [96, 19]]   \n",
       "2              3  0.776156  [[286, 10], [82, 33]]   \n",
       "3              4  0.783455   [[290, 6], [83, 32]]   \n",
       "4              5  0.778589   [[289, 7], [84, 31]]   \n",
       "5              6  0.759124   [[290, 6], [93, 22]]   \n",
       "6              7  0.763990   [[290, 6], [91, 24]]   \n",
       "7              8  0.768856   [[290, 6], [89, 26]]   \n",
       "8              9  0.756691   [[289, 7], [93, 22]]   \n",
       "9             10  0.754258   [[289, 7], [94, 21]]   \n",
       "10            11  0.751825   [[288, 8], [94, 21]]   \n",
       "11            12  0.742092   [[288, 8], [98, 17]]   \n",
       "12            13  0.749392   [[291, 5], [98, 17]]   \n",
       "13            14  0.749392   [[287, 9], [94, 21]]   \n",
       "14            15  0.746959   [[287, 9], [95, 20]]   \n",
       "\n",
       "                                               report  recall_1  recall_0  \n",
       "0                 precision    recall  f1-score   ...  0.078261  0.962838  \n",
       "1                 precision    recall  f1-score   ...  0.165217  0.966216  \n",
       "2                 precision    recall  f1-score   ...  0.286957  0.966216  \n",
       "3                 precision    recall  f1-score   ...  0.278261  0.979730  \n",
       "4                 precision    recall  f1-score   ...  0.269565  0.976351  \n",
       "5                 precision    recall  f1-score   ...  0.191304  0.979730  \n",
       "6                 precision    recall  f1-score   ...  0.208696  0.979730  \n",
       "7                 precision    recall  f1-score   ...  0.226087  0.979730  \n",
       "8                 precision    recall  f1-score   ...  0.191304  0.976351  \n",
       "9                 precision    recall  f1-score   ...  0.182609  0.976351  \n",
       "10                precision    recall  f1-score   ...  0.182609  0.972973  \n",
       "11                precision    recall  f1-score   ...  0.147826  0.972973  \n",
       "12                precision    recall  f1-score   ...  0.147826  0.983108  \n",
       "13                precision    recall  f1-score   ...  0.182609  0.969595  \n",
       "14                precision    recall  f1-score   ...  0.173913  0.969595  "
      ]
     },
     "execution_count": 89,
     "metadata": {},
     "output_type": "execute_result"
    }
   ],
   "source": [
    "df_pca_performance"
   ]
  },
  {
   "cell_type": "code",
   "execution_count": 90,
   "id": "c51a5e11-6463-46bc-8180-a02e28438290",
   "metadata": {},
   "outputs": [
    {
     "data": {
      "image/png": "[encoded data removed]",
      "text/plain": [
       "<Figure size 3000x1000 with 3 Axes>"
      ]
     },
     "metadata": {},
     "output_type": "display_data"
    }
   ],
   "source": [
    "fig, (ax1, ax2, ax3) = plt.subplots(nrows=1, ncols=3, figsize=(30,10))\n",
    "\n",
    "ax1.bar(df_pca_performance[\"n_components\"], df_pca_performance[\"accuracy\"])\n",
    "ax1.set_xlabel(\"n_components\")\n",
    "ax1.set_ylabel(\"accuracy\")\n",
    "\n",
    "ax2.bar(df_pca_performance[\"n_components\"], df_pca_performance[\"recall_1\"])\n",
    "ax2.set_xlabel(\"n_components\")\n",
    "ax2.set_ylabel(\"recall\")\n",
    "\n",
    "ax3.bar(df_pca_performance[\"n_components\"], df_pca_performance[\"recall_0\"])\n",
    "ax3.set_xlabel(\"n_components\")\n",
    "ax3.set_ylabel(\"recall\")\n",
    "\n",
    "fig.savefig(\"pca_eval.png\")"
   ]
  },
  {
   "cell_type": "markdown",
   "metadata": {},
   "source": [
    "##### 4.3. Apply PCA on different time slices seperatly"
   ]
  },
  {
   "cell_type": "code",
   "execution_count": 91,
   "id": "531e1fb3-de6a-425a-bc5a-851121ab3892",
   "metadata": {},
   "outputs": [
    {
     "name": "stdout",
     "output_type": "stream",
     "text": [
      "[creating new connection]\n"
     ]
    }
   ],
   "source": [
    "df = load_and_prep_data()\n",
    "df_val, df_test, df_train = train_test_val_split(df)\n",
    "\n",
    "X_train = df_train.drop(columns=[\"seizure\", \"patient_id\"])\n",
    "y_train = df_train.seizure\n",
    "\n",
    "X_test = df_test.drop(columns=[\"seizure\", \"patient_id\"])\n",
    "y_test = df_test.seizure\n",
    "\n",
    "X_val = df_val.drop(columns=[\"seizure\", \"patient_id\"])\n",
    "y_val = df_val.seizure\n",
    "\n",
    "scaler = StandardScaler()\n",
    "X_train_norm = scaler.fit_transform(X_train)\n",
    "scaler = StandardScaler()\n",
    "X_test_norm = scaler.fit_transform(X_test)\n",
    "scaler = StandardScaler()\n",
    "X_val_norm = scaler.fit_transform(X_val)\n",
    "\n",
    "pca_performance = []\n",
    "\n",
    "for i in range(1,16,1):\n",
    "    pca = PCA(n_components=i)\n",
    "    pca.fit(X_train_norm)\n",
    "    pca_train = pca.transform(X_train_norm)\n",
    "    pca_train_df = pd.DataFrame(pca_train)\n",
    "\n",
    "    pca = PCA(n_components=i)\n",
    "    pca.fit(X_test_norm)\n",
    "    pca_test = pca.transform(X_test_norm)\n",
    "    pca_test_df = pd.DataFrame(pca_test)\n",
    "\n",
    "    model, (accuracy, cm, cr, recall_1, recall_0) = fit_and_eval(pca_train_df, y_train, pca_test_df, y_test)\n",
    "    \n",
    "    pca_performance.append(\n",
    "        {\n",
    "        \"n_components\": i,\n",
    "        \"accuracy\": accuracy,\n",
    "        \"confusion_matrix\": cm,\n",
    "        \"report\": cr,\n",
    "        \"recall_1\": recall_1,\n",
    "        \"recall_0\": recall_0\n",
    "        }\n",
    "    )"
   ]
  },
  {
   "cell_type": "code",
   "execution_count": 92,
   "id": "bf1bd06a-f377-43b8-98f6-0501703d949a",
   "metadata": {},
   "outputs": [],
   "source": [
    "df_pca_performance = pd.DataFrame(pca_performance)"
   ]
  },
  {
   "cell_type": "code",
   "execution_count": 93,
   "id": "8b6693d3-d5cb-4e6e-acf9-9bfa409e0c15",
   "metadata": {},
   "outputs": [
    {
     "data": {
      "text/html": [
       "<div>\n",
       "<style scoped>\n",
       "    .dataframe tbody tr th:only-of-type {\n",
       "        vertical-align: middle;\n",
       "    }\n",
       "\n",
       "    .dataframe tbody tr th {\n",
       "        vertical-align: top;\n",
       "    }\n",
       "\n",
       "    .dataframe thead th {\n",
       "        text-align: right;\n",
       "    }\n",
       "</style>\n",
       "<table border=\"1\" class=\"dataframe\">\n",
       "  <thead>\n",
       "    <tr style=\"text-align: right;\">\n",
       "      <th></th>\n",
       "      <th>n_components</th>\n",
       "      <th>accuracy</th>\n",
       "      <th>confusion_matrix</th>\n",
       "      <th>report</th>\n",
       "      <th>recall_1</th>\n",
       "      <th>recall_0</th>\n",
       "    </tr>\n",
       "  </thead>\n",
       "  <tbody>\n",
       "    <tr>\n",
       "      <th>0</th>\n",
       "      <td>1</td>\n",
       "      <td>0.715328</td>\n",
       "      <td>[[285, 11], [106, 9]]</td>\n",
       "      <td>precision    recall  f1-score   ...</td>\n",
       "      <td>0.078261</td>\n",
       "      <td>0.962838</td>\n",
       "    </tr>\n",
       "    <tr>\n",
       "      <th>1</th>\n",
       "      <td>2</td>\n",
       "      <td>0.742092</td>\n",
       "      <td>[[286, 10], [96, 19]]</td>\n",
       "      <td>precision    recall  f1-score   ...</td>\n",
       "      <td>0.165217</td>\n",
       "      <td>0.966216</td>\n",
       "    </tr>\n",
       "    <tr>\n",
       "      <th>2</th>\n",
       "      <td>3</td>\n",
       "      <td>0.776156</td>\n",
       "      <td>[[286, 10], [82, 33]]</td>\n",
       "      <td>precision    recall  f1-score   ...</td>\n",
       "      <td>0.286957</td>\n",
       "      <td>0.966216</td>\n",
       "    </tr>\n",
       "    <tr>\n",
       "      <th>3</th>\n",
       "      <td>4</td>\n",
       "      <td>0.788321</td>\n",
       "      <td>[[292, 4], [83, 32]]</td>\n",
       "      <td>precision    recall  f1-score   ...</td>\n",
       "      <td>0.278261</td>\n",
       "      <td>0.986486</td>\n",
       "    </tr>\n",
       "    <tr>\n",
       "      <th>4</th>\n",
       "      <td>5</td>\n",
       "      <td>0.771290</td>\n",
       "      <td>[[288, 8], [86, 29]]</td>\n",
       "      <td>precision    recall  f1-score   ...</td>\n",
       "      <td>0.252174</td>\n",
       "      <td>0.972973</td>\n",
       "    </tr>\n",
       "    <tr>\n",
       "      <th>5</th>\n",
       "      <td>6</td>\n",
       "      <td>0.759124</td>\n",
       "      <td>[[290, 6], [93, 22]]</td>\n",
       "      <td>precision    recall  f1-score   ...</td>\n",
       "      <td>0.191304</td>\n",
       "      <td>0.979730</td>\n",
       "    </tr>\n",
       "    <tr>\n",
       "      <th>6</th>\n",
       "      <td>7</td>\n",
       "      <td>0.763990</td>\n",
       "      <td>[[290, 6], [91, 24]]</td>\n",
       "      <td>precision    recall  f1-score   ...</td>\n",
       "      <td>0.208696</td>\n",
       "      <td>0.979730</td>\n",
       "    </tr>\n",
       "    <tr>\n",
       "      <th>7</th>\n",
       "      <td>8</td>\n",
       "      <td>0.761557</td>\n",
       "      <td>[[289, 7], [91, 24]]</td>\n",
       "      <td>precision    recall  f1-score   ...</td>\n",
       "      <td>0.208696</td>\n",
       "      <td>0.976351</td>\n",
       "    </tr>\n",
       "    <tr>\n",
       "      <th>8</th>\n",
       "      <td>9</td>\n",
       "      <td>0.751825</td>\n",
       "      <td>[[288, 8], [94, 21]]</td>\n",
       "      <td>precision    recall  f1-score   ...</td>\n",
       "      <td>0.182609</td>\n",
       "      <td>0.972973</td>\n",
       "    </tr>\n",
       "    <tr>\n",
       "      <th>9</th>\n",
       "      <td>10</td>\n",
       "      <td>0.766423</td>\n",
       "      <td>[[290, 6], [90, 25]]</td>\n",
       "      <td>precision    recall  f1-score   ...</td>\n",
       "      <td>0.217391</td>\n",
       "      <td>0.979730</td>\n",
       "    </tr>\n",
       "    <tr>\n",
       "      <th>10</th>\n",
       "      <td>11</td>\n",
       "      <td>0.754258</td>\n",
       "      <td>[[289, 7], [94, 21]]</td>\n",
       "      <td>precision    recall  f1-score   ...</td>\n",
       "      <td>0.182609</td>\n",
       "      <td>0.976351</td>\n",
       "    </tr>\n",
       "    <tr>\n",
       "      <th>11</th>\n",
       "      <td>12</td>\n",
       "      <td>0.744526</td>\n",
       "      <td>[[287, 9], [96, 19]]</td>\n",
       "      <td>precision    recall  f1-score   ...</td>\n",
       "      <td>0.165217</td>\n",
       "      <td>0.969595</td>\n",
       "    </tr>\n",
       "    <tr>\n",
       "      <th>12</th>\n",
       "      <td>13</td>\n",
       "      <td>0.749392</td>\n",
       "      <td>[[288, 8], [95, 20]]</td>\n",
       "      <td>precision    recall  f1-score   ...</td>\n",
       "      <td>0.173913</td>\n",
       "      <td>0.972973</td>\n",
       "    </tr>\n",
       "    <tr>\n",
       "      <th>13</th>\n",
       "      <td>14</td>\n",
       "      <td>0.742092</td>\n",
       "      <td>[[286, 10], [96, 19]]</td>\n",
       "      <td>precision    recall  f1-score   ...</td>\n",
       "      <td>0.165217</td>\n",
       "      <td>0.966216</td>\n",
       "    </tr>\n",
       "    <tr>\n",
       "      <th>14</th>\n",
       "      <td>15</td>\n",
       "      <td>0.754258</td>\n",
       "      <td>[[288, 8], [93, 22]]</td>\n",
       "      <td>precision    recall  f1-score   ...</td>\n",
       "      <td>0.191304</td>\n",
       "      <td>0.972973</td>\n",
       "    </tr>\n",
       "  </tbody>\n",
       "</table>\n",
       "</div>"
      ],
      "text/plain": [
       "    n_components  accuracy       confusion_matrix   \n",
       "0              1  0.715328  [[285, 11], [106, 9]]  \\\n",
       "1              2  0.742092  [[286, 10], [96, 19]]   \n",
       "2              3  0.776156  [[286, 10], [82, 33]]   \n",
       "3              4  0.788321   [[292, 4], [83, 32]]   \n",
       "4              5  0.771290   [[288, 8], [86, 29]]   \n",
       "5              6  0.759124   [[290, 6], [93, 22]]   \n",
       "6              7  0.763990   [[290, 6], [91, 24]]   \n",
       "7              8  0.761557   [[289, 7], [91, 24]]   \n",
       "8              9  0.751825   [[288, 8], [94, 21]]   \n",
       "9             10  0.766423   [[290, 6], [90, 25]]   \n",
       "10            11  0.754258   [[289, 7], [94, 21]]   \n",
       "11            12  0.744526   [[287, 9], [96, 19]]   \n",
       "12            13  0.749392   [[288, 8], [95, 20]]   \n",
       "13            14  0.742092  [[286, 10], [96, 19]]   \n",
       "14            15  0.754258   [[288, 8], [93, 22]]   \n",
       "\n",
       "                                               report  recall_1  recall_0  \n",
       "0                 precision    recall  f1-score   ...  0.078261  0.962838  \n",
       "1                 precision    recall  f1-score   ...  0.165217  0.966216  \n",
       "2                 precision    recall  f1-score   ...  0.286957  0.966216  \n",
       "3                 precision    recall  f1-score   ...  0.278261  0.986486  \n",
       "4                 precision    recall  f1-score   ...  0.252174  0.972973  \n",
       "5                 precision    recall  f1-score   ...  0.191304  0.979730  \n",
       "6                 precision    recall  f1-score   ...  0.208696  0.979730  \n",
       "7                 precision    recall  f1-score   ...  0.208696  0.976351  \n",
       "8                 precision    recall  f1-score   ...  0.182609  0.972973  \n",
       "9                 precision    recall  f1-score   ...  0.217391  0.979730  \n",
       "10                precision    recall  f1-score   ...  0.182609  0.976351  \n",
       "11                precision    recall  f1-score   ...  0.165217  0.969595  \n",
       "12                precision    recall  f1-score   ...  0.173913  0.972973  \n",
       "13                precision    recall  f1-score   ...  0.165217  0.966216  \n",
       "14                precision    recall  f1-score   ...  0.191304  0.972973  "
      ]
     },
     "execution_count": 93,
     "metadata": {},
     "output_type": "execute_result"
    }
   ],
   "source": [
    "df_pca_performance"
   ]
  },
  {
   "cell_type": "code",
   "execution_count": 94,
   "id": "c51a5e11-6463-46bc-8180-a02e28438290",
   "metadata": {},
   "outputs": [
    {
     "data": {
      "image/png": "[encoded data removed]",
      "text/plain": [
       "<Figure size 3000x1000 with 3 Axes>"
      ]
     },
     "metadata": {},
     "output_type": "display_data"
    }
   ],
   "source": [
    "fig, (ax1, ax2, ax3) = plt.subplots(nrows=1, ncols=3, figsize=(30,10))\n",
    "\n",
    "ax1.bar(df_pca_performance[\"n_components\"], df_pca_performance[\"accuracy\"])\n",
    "ax1.set_xlabel(\"n_components\")\n",
    "ax1.set_ylabel(\"accuracy\")\n",
    "\n",
    "ax2.bar(df_pca_performance[\"n_components\"], df_pca_performance[\"recall_1\"])\n",
    "ax2.set_xlabel(\"n_components\")\n",
    "ax2.set_ylabel(\"recall\")\n",
    "\n",
    "ax3.bar(df_pca_performance[\"n_components\"], df_pca_performance[\"recall_0\"])\n",
    "ax3.set_xlabel(\"n_components\")\n",
    "ax3.set_ylabel(\"recall\")\n",
    "\n",
    "fig.savefig(\"pca_eval.png\")"
   ]
  },
  {
   "cell_type": "code",
   "execution_count": 95,
   "id": "7cb9a10f-6167-4820-8560-059fddb590a6",
   "metadata": {},
   "outputs": [
    {
     "name": "stdout",
     "output_type": "stream",
     "text": [
      "[creating new connection]\n"
     ]
    }
   ],
   "source": [
    "df = load_and_prep_data()\n",
    "df_val, df_test, df_train = train_test_val_split(df)\n",
    "\n",
    "pca_train_df = pd.DataFrame()\n",
    "pca_test_df = pd.DataFrame()\n",
    "\n",
    "for i in range(0,55, 1):\n",
    "    X_train, y_train, X_test, y_test, X_val, y_val = create_splits(df_train, df_test, df_val, features, i)\n",
    "\n",
    "    scaler = StandardScaler()\n",
    "    X_train_norm = scaler.fit_transform(X_train)\n",
    "    scaler = StandardScaler()\n",
    "    X_test_norm = scaler.fit_transform(X_test)\n",
    "    scaler = StandardScaler()\n",
    "    X_val_norm = scaler.fit_transform(X_val)\n",
    "\n",
    "    pca = PCA(n_components=2)\n",
    "    pca.fit(X_train_norm)\n",
    "    pca_train = pca.transform(X_train_norm)\n",
    "    pca_train = pd.DataFrame(pca_train).rename(columns={\n",
    "        0: f\"pca_0_time_slice_{i}\",\n",
    "        1: f\"pca_1_time_slice_{i}\"\n",
    "    })\n",
    "    pca_train_df = pca_train if pca_train_df.empty else pca_train_df.join(pca_train)\n",
    "\n",
    "    pca = PCA(n_components=2)\n",
    "    pca.fit(X_test_norm)\n",
    "    pca_test = pca.transform(X_test_norm)\n",
    "    pca_test = pd.DataFrame(pca_test).rename(columns={\n",
    "        0: f\"pca_0_time_slice_{i}\",\n",
    "        1: f\"pca_1_time_slice_{i}\"\n",
    "    })\n",
    "    pca_test_df = pca_test if pca_test_df.empty else pca_test_df.join(pca_test)"
   ]
  },
  {
   "cell_type": "code",
   "execution_count": 96,
   "id": "6be40a0b-2e67-4561-a59c-78e1cff8506d",
   "metadata": {},
   "outputs": [],
   "source": [
    "model, (accuracy, cm, cr, recall_1, recall_0) = fit_and_eval(pca_train_df, y_train, pca_test_df, y_test)"
   ]
  },
  {
   "cell_type": "code",
   "execution_count": 97,
   "id": "9123cdf7-9351-4ac3-8143-7fe4ae5ff523",
   "metadata": {},
   "outputs": [
    {
     "name": "stdout",
     "output_type": "stream",
     "text": [
      "              precision    recall  f1-score   support\n",
      "\n",
      "           0       0.77      1.00      0.87       296\n",
      "           1       1.00      0.23      0.38       115\n",
      "\n",
      "    accuracy                           0.79       411\n",
      "   macro avg       0.89      0.62      0.63       411\n",
      "weighted avg       0.83      0.79      0.73       411\n",
      "\n"
     ]
    }
   ],
   "source": [
    "print(cr)"
   ]
  }
 ],
 "metadata": {
  "kernelspec": {
   "display_name": "Python [pipenv: uni]",
   "language": "python",
   "name": "uni"
  },
  "orig_nbformat": 4
 },
 "nbformat": 4,
 "nbformat_minor": 2
}
