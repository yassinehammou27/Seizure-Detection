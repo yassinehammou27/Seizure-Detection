{
 "cells": [
  {
   "cell_type": "markdown",
   "metadata": {},
   "source": [
    "# Fit XGBoost model for multiple time slices as input"
   ]
  },
  {
   "cell_type": "markdown",
   "metadata": {},
   "source": [
    "In this experiment we will use multiple time slices as an input for our XGBoost model and evaluate the performance."
   ]
  },
  {
   "cell_type": "code",
   "execution_count": 95,
   "metadata": {},
   "outputs": [],
   "source": [
    "import pandas as pd\n",
    "import seaborn as sns\n",
    "import shap\n",
    "from matplotlib import pyplot as plt\n",
    "import monipy.utils.database as database\n",
    "from sklearn.model_selection import train_test_split, GridSearchCV\n",
    "from xgboost import XGBClassifier\n",
    "from sklearn.metrics import accuracy_score, confusion_matrix, classification_report, recall_score\n",
    "from sklearn.inspection import permutation_importance\n",
    "from sklearn.decomposition import PCA\n",
    "from sklearn.preprocessing import StandardScaler"
   ]
  },
  {
   "cell_type": "markdown",
   "metadata": {},
   "source": [
    "### 1. Helping Functions"
   ]
  },
  {
   "cell_type": "code",
   "execution_count": 96,
   "metadata": {},
   "outputs": [],
   "source": [
    "def load_and_prep_data(window=0, data_filter=4):\n",
    "    # load data\n",
    "    df = pd.concat([pd.read_csv(f\"data/useable_yes_unknown/filter_{data_filter}/sandor_full.csv\", index_col=[0]),\n",
    "              pd.read_csv(f\"data/useable_yes/filter_{data_filter}/ukt_full.csv\", index_col=[0]),\n",
    "              pd.read_csv(f\"data/useable_yes/filter_{data_filter}/freiburg_full.csv\", index_col=[0]),\n",
    "              pd.read_csv(f\"data/useable_yes/filter_{data_filter}/uka_corvolution_full.csv\", index_col=[0]),\n",
    "              pd.read_csv(f\"data/useable_yes/filter_{data_filter}/uka_klinik_full.csv\", index_col=[0]),\n",
    "             ])\n",
    "    \n",
    "    # rename column\n",
    "    df = df.rename(columns={\"window_Unnamed: 2093_level_1\": \"window\"})\n",
    "    \n",
    "    # filter for one starting window\n",
    "    df = df[df[\"window\"] == window]\n",
    "    \n",
    "    # get patient specific columns\n",
    "    df_patients_columns = database.get_all_patients().columns\n",
    "    \n",
    "    # drop patient specific columns and other columns\n",
    "    df = df.drop(columns = list(df_patients_columns))\n",
    "\n",
    "    columns = [\"seizure_id_Unnamed: 2091_level_1\", \n",
    "           \"record_id\", \"window\", \n",
    "           \"timestamp_start_Unnamed: 2094_level_1\"]\n",
    "    df = df.drop(columns=columns)\n",
    "\n",
    "    return df"
   ]
  },
  {
   "cell_type": "code",
   "execution_count": 97,
   "metadata": {},
   "outputs": [],
   "source": [
    "def train_test_val_split(df):\n",
    "    # split the data val, test, train\n",
    "    val_patients = pd.read_csv(\"data/patients/val_patients_1.csv\", index_col=[0]).reset_index(drop=True)\n",
    "    test_patients = pd.read_csv(\"data/patients/test_patients_1.csv\", index_col=[0]).reset_index(drop=True)\n",
    "    \n",
    "    df_val = df[df[\"patient_id\"].isin(val_patients.iloc[:, 0])].reset_index(drop=True)\n",
    "    df_test = df[df[\"patient_id\"].isin(test_patients.iloc[:, 0])].reset_index(drop=True)\n",
    "    df_train = df[~(df[\"patient_id\"].isin(set(val_patients.iloc[:, 0]) | set(test_patients.iloc[:, 0])))].reset_index(drop=True)\n",
    "    return df_val, df_test, df_train"
   ]
  },
  {
   "cell_type": "code",
   "execution_count": 98,
   "metadata": {},
   "outputs": [],
   "source": [
    "def create_splits(df_train, df_test, df_val, features, time_slice=0):\n",
    "    data_split = {}\n",
    "    for split in [\"val\", \"test\", \"train\"]:\n",
    "        data_split[f\"X_{split}\"] = eval(f\"df_{split}\")[[f\"{feature}_{time_slice}\" for feature in features]]\n",
    "        data_split[f\"y_{split}\"] = eval(f\"df_{split}\")[[\"seizure\"]]\n",
    "    return data_split[\"X_train\"], data_split[\"y_train\"], data_split[\"X_test\"], data_split[\"y_test\"], data_split[\"X_val\"], data_split[\"y_val\"]"
   ]
  },
  {
   "cell_type": "code",
   "execution_count": 99,
   "metadata": {},
   "outputs": [],
   "source": [
    "# fit xgboost model\n",
    "def fit_and_eval(X_train, y_train, X_test, y_test):\n",
    "    # Define initial hyperparameters\n",
    "    params = {\n",
    "        'objective': 'binary:logistic',  # Binary classification objective\n",
    "        'learning_rate': 0.1,  # Learning rate\n",
    "        'max_depth': 7, # Maximum depth of each tree\n",
    "        'n_estimators': 300,\n",
    "        'subsample': 0.8,  # Subsample ratio of the training instances\n",
    "        'colsample_bytree': 0.8,  # Subsample ratio of features when constructing each tree\n",
    "        'scale_pos_weight': 0.9,\n",
    "    }\n",
    "\n",
    "    # Create the XGBoost classifier\n",
    "    model = XGBClassifier(**params)\n",
    "\n",
    "    # Train the XGBoost model\n",
    "    model.fit(X_train, y_train)\n",
    "\n",
    "    # Predict on the test set\n",
    "    y_pred = model.predict(X_test)\n",
    "\n",
    "    # return evaluation\n",
    "    return model, (accuracy_score(y_test, y_pred), confusion_matrix(y_test, y_pred), classification_report(y_test, y_pred),recall_score(y_test, y_pred),recall_score(y_test, y_pred, pos_label=0))"
   ]
  },
  {
   "cell_type": "code",
   "execution_count": 100,
   "metadata": {},
   "outputs": [],
   "source": [
    "features = {'avg',\n",
    " 'csi',\n",
    " 'csi_filtered',\n",
    " 'csi_filtered_slope',\n",
    " 'csi_slope',\n",
    " 'csim',\n",
    " 'csim_filtered',\n",
    " 'csim_filtered_slope',\n",
    " 'csim_slope',\n",
    " 'cvi',\n",
    " 'hf',\n",
    " 'hr_diff',\n",
    " 'hr_diff_filtered',\n",
    " 'hr_diff_filtered_slope',\n",
    " 'hr_diff_slope',\n",
    " 'kurt',\n",
    " 'lf',\n",
    " 'lf_hf_ratio',\n",
    " 'mf_coef_center',\n",
    " 'mf_coef_left',\n",
    " 'mf_coef_right',\n",
    " 'mf_hurst_max',\n",
    " 'nnx',\n",
    " 'pnnx',\n",
    " 'quantile_25',\n",
    " 'quantile_50',\n",
    " 'quantile_75',\n",
    " 'rmssd',\n",
    " 'rmssd_dt',\n",
    " 'sd',\n",
    " 'sd1',\n",
    " 'sd2',\n",
    " 'skew',\n",
    " 'total_power',\n",
    " 'triangular_index',\n",
    " 'ulf',\n",
    " 'variance',\n",
    " 'vlf'}"
   ]
  },
  {
   "cell_type": "markdown",
   "metadata": {},
   "source": [
    "### 2. Load Data"
   ]
  },
  {
   "cell_type": "code",
   "execution_count": 101,
   "metadata": {},
   "outputs": [
    {
     "name": "stdout",
     "output_type": "stream",
     "text": [
      "[creating new connection]\n",
      "(3320, 2092)\n"
     ]
    }
   ],
   "source": [
    "df = load_and_prep_data()\n",
    "print(df.shape)\n",
    "df_val, df_test, df_train = train_test_val_split(df)"
   ]
  },
  {
   "cell_type": "markdown",
   "metadata": {},
   "source": [
    "### 3. Test Performance for different time slices"
   ]
  },
  {
   "cell_type": "code",
   "execution_count": 102,
   "id": "50e8ad8b-38f4-47a1-a458-b293268a9938",
   "metadata": {
    "collapsed": true,
    "jupyter": {
     "outputs_hidden": true
    },
    "tags": []
   },
   "outputs": [],
   "source": [
    "performance = []\n",
    "for time_slices in range(1,55,1):   \n",
    "    x = []\n",
    "    for i in range(0,time_slices,1):\n",
    "        x = x + [f\"{feature}_{i}\" for feature in features]\n",
    "       \n",
    "    X_train = df_train[x]\n",
    "    y_train = df_train.seizure\n",
    "\n",
    "    X_test = df_test[x]\n",
    "    y_test = df_test.seizure\n",
    "\n",
    "    X_val = df_val[x]\n",
    "    y_val = df_val.seizure\n",
    "\n",
    "    \n",
    "    model, (accuracy, cm, cr, recall_1, recall_0) = fit_and_eval(X_train, y_train, X_test, y_test)\n",
    "    \n",
    "    performance.append(\n",
    "        {\n",
    "        \"time_slices\": time_slices,\n",
    "        \"accuracy\": accuracy,\n",
    "        \"confusion_matrix\": cm,\n",
    "        \"report\": cr,\n",
    "        \"recall_1\": recall_1,\n",
    "        \"recall_0\": recall_0\n",
    "        }\n",
    "    )"
   ]
  },
  {
   "cell_type": "code",
   "execution_count": 103,
   "id": "b09fdf60-88f6-480e-8e87-aa099df7168f",
   "metadata": {},
   "outputs": [],
   "source": [
    "df_performance = pd.DataFrame(performance)"
   ]
  },
  {
   "cell_type": "code",
   "execution_count": 104,
   "id": "639544a0-83d7-48c3-89f9-7a50e498d66b",
   "metadata": {},
   "outputs": [
    {
     "data": {
      "image/png": "[encoded data removed]",
      "text/plain": [
       "<Figure size 3000x1000 with 3 Axes>"
      ]
     },
     "metadata": {},
     "output_type": "display_data"
    }
   ],
   "source": [
    "fig, (ax1, ax2, ax3) = plt.subplots(nrows=1, ncols=3, figsize=(30,10))\n",
    "\n",
    "ax1.scatter(df_performance[\"time_slices\"], df_performance[\"accuracy\"])\n",
    "ax1.set_xlabel(\"time slices\")\n",
    "ax1.set_ylabel(\"accuracy\")\n",
    "\n",
    "ax2.scatter(df_performance[\"time_slices\"], df_performance[\"recall_1\"])\n",
    "ax2.set_xlabel(\"time slices\")\n",
    "ax2.set_ylabel(\"recall\")\n",
    "\n",
    "ax3.scatter(df_performance[\"time_slices\"], df_performance[\"recall_0\"])\n",
    "ax3.set_xlabel(\"time slices\")\n",
    "ax3.set_ylabel(\"recall\")\n",
    "\n",
    "fig.savefig(\"time_slices_eval.png\")"
   ]
  },
  {
   "cell_type": "code",
   "execution_count": 105,
   "id": "3fa87f27-654b-47a7-9941-6a4d23d7ad4c",
   "metadata": {},
   "outputs": [
    {
     "data": {
      "text/html": [
       "<div>\n",
       "<style scoped>\n",
       "    .dataframe tbody tr th:only-of-type {\n",
       "        vertical-align: middle;\n",
       "    }\n",
       "\n",
       "    .dataframe tbody tr th {\n",
       "        vertical-align: top;\n",
       "    }\n",
       "\n",
       "    .dataframe thead th {\n",
       "        text-align: right;\n",
       "    }\n",
       "</style>\n",
       "<table border=\"1\" class=\"dataframe\">\n",
       "  <thead>\n",
       "    <tr style=\"text-align: right;\">\n",
       "      <th></th>\n",
       "      <th>time_slices</th>\n",
       "      <th>accuracy</th>\n",
       "      <th>confusion_matrix</th>\n",
       "      <th>report</th>\n",
       "      <th>recall_1</th>\n",
       "      <th>recall_0</th>\n",
       "    </tr>\n",
       "  </thead>\n",
       "  <tbody>\n",
       "    <tr>\n",
       "      <th>12</th>\n",
       "      <td>13</td>\n",
       "      <td>0.939173</td>\n",
       "      <td>[[294, 2], [23, 92]]</td>\n",
       "      <td>precision    recall  f1-score   ...</td>\n",
       "      <td>0.800000</td>\n",
       "      <td>0.993243</td>\n",
       "    </tr>\n",
       "    <tr>\n",
       "      <th>6</th>\n",
       "      <td>7</td>\n",
       "      <td>0.936740</td>\n",
       "      <td>[[294, 2], [24, 91]]</td>\n",
       "      <td>precision    recall  f1-score   ...</td>\n",
       "      <td>0.791304</td>\n",
       "      <td>0.993243</td>\n",
       "    </tr>\n",
       "    <tr>\n",
       "      <th>1</th>\n",
       "      <td>2</td>\n",
       "      <td>0.934307</td>\n",
       "      <td>[[293, 3], [24, 91]]</td>\n",
       "      <td>precision    recall  f1-score   ...</td>\n",
       "      <td>0.791304</td>\n",
       "      <td>0.989865</td>\n",
       "    </tr>\n",
       "    <tr>\n",
       "      <th>15</th>\n",
       "      <td>16</td>\n",
       "      <td>0.934307</td>\n",
       "      <td>[[294, 2], [25, 90]]</td>\n",
       "      <td>precision    recall  f1-score   ...</td>\n",
       "      <td>0.782609</td>\n",
       "      <td>0.993243</td>\n",
       "    </tr>\n",
       "    <tr>\n",
       "      <th>5</th>\n",
       "      <td>6</td>\n",
       "      <td>0.934307</td>\n",
       "      <td>[[294, 2], [25, 90]]</td>\n",
       "      <td>precision    recall  f1-score   ...</td>\n",
       "      <td>0.782609</td>\n",
       "      <td>0.993243</td>\n",
       "    </tr>\n",
       "    <tr>\n",
       "      <th>22</th>\n",
       "      <td>23</td>\n",
       "      <td>0.934307</td>\n",
       "      <td>[[294, 2], [25, 90]]</td>\n",
       "      <td>precision    recall  f1-score   ...</td>\n",
       "      <td>0.782609</td>\n",
       "      <td>0.993243</td>\n",
       "    </tr>\n",
       "    <tr>\n",
       "      <th>13</th>\n",
       "      <td>14</td>\n",
       "      <td>0.934307</td>\n",
       "      <td>[[294, 2], [25, 90]]</td>\n",
       "      <td>precision    recall  f1-score   ...</td>\n",
       "      <td>0.782609</td>\n",
       "      <td>0.993243</td>\n",
       "    </tr>\n",
       "    <tr>\n",
       "      <th>18</th>\n",
       "      <td>19</td>\n",
       "      <td>0.934307</td>\n",
       "      <td>[[294, 2], [25, 90]]</td>\n",
       "      <td>precision    recall  f1-score   ...</td>\n",
       "      <td>0.782609</td>\n",
       "      <td>0.993243</td>\n",
       "    </tr>\n",
       "    <tr>\n",
       "      <th>10</th>\n",
       "      <td>11</td>\n",
       "      <td>0.934307</td>\n",
       "      <td>[[293, 3], [24, 91]]</td>\n",
       "      <td>precision    recall  f1-score   ...</td>\n",
       "      <td>0.791304</td>\n",
       "      <td>0.989865</td>\n",
       "    </tr>\n",
       "    <tr>\n",
       "      <th>11</th>\n",
       "      <td>12</td>\n",
       "      <td>0.934307</td>\n",
       "      <td>[[294, 2], [25, 90]]</td>\n",
       "      <td>precision    recall  f1-score   ...</td>\n",
       "      <td>0.782609</td>\n",
       "      <td>0.993243</td>\n",
       "    </tr>\n",
       "  </tbody>\n",
       "</table>\n",
       "</div>"
      ],
      "text/plain": [
       "    time_slices  accuracy      confusion_matrix   \n",
       "12           13  0.939173  [[294, 2], [23, 92]]  \\\n",
       "6             7  0.936740  [[294, 2], [24, 91]]   \n",
       "1             2  0.934307  [[293, 3], [24, 91]]   \n",
       "15           16  0.934307  [[294, 2], [25, 90]]   \n",
       "5             6  0.934307  [[294, 2], [25, 90]]   \n",
       "22           23  0.934307  [[294, 2], [25, 90]]   \n",
       "13           14  0.934307  [[294, 2], [25, 90]]   \n",
       "18           19  0.934307  [[294, 2], [25, 90]]   \n",
       "10           11  0.934307  [[293, 3], [24, 91]]   \n",
       "11           12  0.934307  [[294, 2], [25, 90]]   \n",
       "\n",
       "                                               report  recall_1  recall_0  \n",
       "12                precision    recall  f1-score   ...  0.800000  0.993243  \n",
       "6                 precision    recall  f1-score   ...  0.791304  0.993243  \n",
       "1                 precision    recall  f1-score   ...  0.791304  0.989865  \n",
       "15                precision    recall  f1-score   ...  0.782609  0.993243  \n",
       "5                 precision    recall  f1-score   ...  0.782609  0.993243  \n",
       "22                precision    recall  f1-score   ...  0.782609  0.993243  \n",
       "13                precision    recall  f1-score   ...  0.782609  0.993243  \n",
       "18                precision    recall  f1-score   ...  0.782609  0.993243  \n",
       "10                precision    recall  f1-score   ...  0.791304  0.989865  \n",
       "11                precision    recall  f1-score   ...  0.782609  0.993243  "
      ]
     },
     "execution_count": 105,
     "metadata": {},
     "output_type": "execute_result"
    }
   ],
   "source": [
    "df_performance.sort_values(by=\"accuracy\", ascending=False).head(10)"
   ]
  },
  {
   "cell_type": "code",
   "execution_count": 106,
   "id": "17c5a144-a0b9-49f0-b254-280c96337b94",
   "metadata": {},
   "outputs": [
    {
     "data": {
      "text/html": [
       "<div>\n",
       "<style scoped>\n",
       "    .dataframe tbody tr th:only-of-type {\n",
       "        vertical-align: middle;\n",
       "    }\n",
       "\n",
       "    .dataframe tbody tr th {\n",
       "        vertical-align: top;\n",
       "    }\n",
       "\n",
       "    .dataframe thead th {\n",
       "        text-align: right;\n",
       "    }\n",
       "</style>\n",
       "<table border=\"1\" class=\"dataframe\">\n",
       "  <thead>\n",
       "    <tr style=\"text-align: right;\">\n",
       "      <th></th>\n",
       "      <th>time_slices</th>\n",
       "      <th>accuracy</th>\n",
       "      <th>confusion_matrix</th>\n",
       "      <th>report</th>\n",
       "      <th>recall_1</th>\n",
       "      <th>recall_0</th>\n",
       "    </tr>\n",
       "  </thead>\n",
       "  <tbody>\n",
       "    <tr>\n",
       "      <th>12</th>\n",
       "      <td>13</td>\n",
       "      <td>0.939173</td>\n",
       "      <td>[[294, 2], [23, 92]]</td>\n",
       "      <td>precision    recall  f1-score   ...</td>\n",
       "      <td>0.800000</td>\n",
       "      <td>0.993243</td>\n",
       "    </tr>\n",
       "    <tr>\n",
       "      <th>10</th>\n",
       "      <td>11</td>\n",
       "      <td>0.934307</td>\n",
       "      <td>[[293, 3], [24, 91]]</td>\n",
       "      <td>precision    recall  f1-score   ...</td>\n",
       "      <td>0.791304</td>\n",
       "      <td>0.989865</td>\n",
       "    </tr>\n",
       "    <tr>\n",
       "      <th>1</th>\n",
       "      <td>2</td>\n",
       "      <td>0.934307</td>\n",
       "      <td>[[293, 3], [24, 91]]</td>\n",
       "      <td>precision    recall  f1-score   ...</td>\n",
       "      <td>0.791304</td>\n",
       "      <td>0.989865</td>\n",
       "    </tr>\n",
       "    <tr>\n",
       "      <th>6</th>\n",
       "      <td>7</td>\n",
       "      <td>0.936740</td>\n",
       "      <td>[[294, 2], [24, 91]]</td>\n",
       "      <td>precision    recall  f1-score   ...</td>\n",
       "      <td>0.791304</td>\n",
       "      <td>0.993243</td>\n",
       "    </tr>\n",
       "    <tr>\n",
       "      <th>0</th>\n",
       "      <td>1</td>\n",
       "      <td>0.929440</td>\n",
       "      <td>[[292, 4], [25, 90]]</td>\n",
       "      <td>precision    recall  f1-score   ...</td>\n",
       "      <td>0.782609</td>\n",
       "      <td>0.986486</td>\n",
       "    </tr>\n",
       "    <tr>\n",
       "      <th>22</th>\n",
       "      <td>23</td>\n",
       "      <td>0.934307</td>\n",
       "      <td>[[294, 2], [25, 90]]</td>\n",
       "      <td>precision    recall  f1-score   ...</td>\n",
       "      <td>0.782609</td>\n",
       "      <td>0.993243</td>\n",
       "    </tr>\n",
       "    <tr>\n",
       "      <th>18</th>\n",
       "      <td>19</td>\n",
       "      <td>0.934307</td>\n",
       "      <td>[[294, 2], [25, 90]]</td>\n",
       "      <td>precision    recall  f1-score   ...</td>\n",
       "      <td>0.782609</td>\n",
       "      <td>0.993243</td>\n",
       "    </tr>\n",
       "    <tr>\n",
       "      <th>13</th>\n",
       "      <td>14</td>\n",
       "      <td>0.934307</td>\n",
       "      <td>[[294, 2], [25, 90]]</td>\n",
       "      <td>precision    recall  f1-score   ...</td>\n",
       "      <td>0.782609</td>\n",
       "      <td>0.993243</td>\n",
       "    </tr>\n",
       "    <tr>\n",
       "      <th>11</th>\n",
       "      <td>12</td>\n",
       "      <td>0.934307</td>\n",
       "      <td>[[294, 2], [25, 90]]</td>\n",
       "      <td>precision    recall  f1-score   ...</td>\n",
       "      <td>0.782609</td>\n",
       "      <td>0.993243</td>\n",
       "    </tr>\n",
       "    <tr>\n",
       "      <th>15</th>\n",
       "      <td>16</td>\n",
       "      <td>0.934307</td>\n",
       "      <td>[[294, 2], [25, 90]]</td>\n",
       "      <td>precision    recall  f1-score   ...</td>\n",
       "      <td>0.782609</td>\n",
       "      <td>0.993243</td>\n",
       "    </tr>\n",
       "  </tbody>\n",
       "</table>\n",
       "</div>"
      ],
      "text/plain": [
       "    time_slices  accuracy      confusion_matrix   \n",
       "12           13  0.939173  [[294, 2], [23, 92]]  \\\n",
       "10           11  0.934307  [[293, 3], [24, 91]]   \n",
       "1             2  0.934307  [[293, 3], [24, 91]]   \n",
       "6             7  0.936740  [[294, 2], [24, 91]]   \n",
       "0             1  0.929440  [[292, 4], [25, 90]]   \n",
       "22           23  0.934307  [[294, 2], [25, 90]]   \n",
       "18           19  0.934307  [[294, 2], [25, 90]]   \n",
       "13           14  0.934307  [[294, 2], [25, 90]]   \n",
       "11           12  0.934307  [[294, 2], [25, 90]]   \n",
       "15           16  0.934307  [[294, 2], [25, 90]]   \n",
       "\n",
       "                                               report  recall_1  recall_0  \n",
       "12                precision    recall  f1-score   ...  0.800000  0.993243  \n",
       "10                precision    recall  f1-score   ...  0.791304  0.989865  \n",
       "1                 precision    recall  f1-score   ...  0.791304  0.989865  \n",
       "6                 precision    recall  f1-score   ...  0.791304  0.993243  \n",
       "0                 precision    recall  f1-score   ...  0.782609  0.986486  \n",
       "22                precision    recall  f1-score   ...  0.782609  0.993243  \n",
       "18                precision    recall  f1-score   ...  0.782609  0.993243  \n",
       "13                precision    recall  f1-score   ...  0.782609  0.993243  \n",
       "11                precision    recall  f1-score   ...  0.782609  0.993243  \n",
       "15                precision    recall  f1-score   ...  0.782609  0.993243  "
      ]
     },
     "execution_count": 106,
     "metadata": {},
     "output_type": "execute_result"
    }
   ],
   "source": [
    "df_performance.sort_values(by=\"recall_1\", ascending=False).head(10)"
   ]
  },
  {
   "cell_type": "code",
   "execution_count": 107,
   "id": "6c1c7753-2e15-4256-9d51-54107eff0f2e",
   "metadata": {},
   "outputs": [
    {
     "data": {
      "text/html": [
       "<div>\n",
       "<style scoped>\n",
       "    .dataframe tbody tr th:only-of-type {\n",
       "        vertical-align: middle;\n",
       "    }\n",
       "\n",
       "    .dataframe tbody tr th {\n",
       "        vertical-align: top;\n",
       "    }\n",
       "\n",
       "    .dataframe thead th {\n",
       "        text-align: right;\n",
       "    }\n",
       "</style>\n",
       "<table border=\"1\" class=\"dataframe\">\n",
       "  <thead>\n",
       "    <tr style=\"text-align: right;\">\n",
       "      <th></th>\n",
       "      <th>time_slices</th>\n",
       "      <th>accuracy</th>\n",
       "      <th>confusion_matrix</th>\n",
       "      <th>report</th>\n",
       "      <th>recall_1</th>\n",
       "      <th>recall_0</th>\n",
       "    </tr>\n",
       "  </thead>\n",
       "  <tbody>\n",
       "    <tr>\n",
       "      <th>52</th>\n",
       "      <td>53</td>\n",
       "      <td>0.917275</td>\n",
       "      <td>[[295, 1], [33, 82]]</td>\n",
       "      <td>precision    recall  f1-score   ...</td>\n",
       "      <td>0.713043</td>\n",
       "      <td>0.996622</td>\n",
       "    </tr>\n",
       "    <tr>\n",
       "      <th>37</th>\n",
       "      <td>38</td>\n",
       "      <td>0.912409</td>\n",
       "      <td>[[295, 1], [35, 80]]</td>\n",
       "      <td>precision    recall  f1-score   ...</td>\n",
       "      <td>0.695652</td>\n",
       "      <td>0.996622</td>\n",
       "    </tr>\n",
       "    <tr>\n",
       "      <th>42</th>\n",
       "      <td>43</td>\n",
       "      <td>0.917275</td>\n",
       "      <td>[[295, 1], [33, 82]]</td>\n",
       "      <td>precision    recall  f1-score   ...</td>\n",
       "      <td>0.713043</td>\n",
       "      <td>0.996622</td>\n",
       "    </tr>\n",
       "    <tr>\n",
       "      <th>45</th>\n",
       "      <td>46</td>\n",
       "      <td>0.927007</td>\n",
       "      <td>[[295, 1], [29, 86]]</td>\n",
       "      <td>precision    recall  f1-score   ...</td>\n",
       "      <td>0.747826</td>\n",
       "      <td>0.996622</td>\n",
       "    </tr>\n",
       "    <tr>\n",
       "      <th>35</th>\n",
       "      <td>36</td>\n",
       "      <td>0.914842</td>\n",
       "      <td>[[295, 1], [34, 81]]</td>\n",
       "      <td>precision    recall  f1-score   ...</td>\n",
       "      <td>0.704348</td>\n",
       "      <td>0.996622</td>\n",
       "    </tr>\n",
       "    <tr>\n",
       "      <th>53</th>\n",
       "      <td>54</td>\n",
       "      <td>0.919708</td>\n",
       "      <td>[[294, 2], [31, 84]]</td>\n",
       "      <td>precision    recall  f1-score   ...</td>\n",
       "      <td>0.730435</td>\n",
       "      <td>0.993243</td>\n",
       "    </tr>\n",
       "    <tr>\n",
       "      <th>16</th>\n",
       "      <td>17</td>\n",
       "      <td>0.931873</td>\n",
       "      <td>[[294, 2], [26, 89]]</td>\n",
       "      <td>precision    recall  f1-score   ...</td>\n",
       "      <td>0.773913</td>\n",
       "      <td>0.993243</td>\n",
       "    </tr>\n",
       "    <tr>\n",
       "      <th>29</th>\n",
       "      <td>30</td>\n",
       "      <td>0.922141</td>\n",
       "      <td>[[294, 2], [30, 85]]</td>\n",
       "      <td>precision    recall  f1-score   ...</td>\n",
       "      <td>0.739130</td>\n",
       "      <td>0.993243</td>\n",
       "    </tr>\n",
       "    <tr>\n",
       "      <th>41</th>\n",
       "      <td>42</td>\n",
       "      <td>0.912409</td>\n",
       "      <td>[[294, 2], [34, 81]]</td>\n",
       "      <td>precision    recall  f1-score   ...</td>\n",
       "      <td>0.704348</td>\n",
       "      <td>0.993243</td>\n",
       "    </tr>\n",
       "    <tr>\n",
       "      <th>44</th>\n",
       "      <td>45</td>\n",
       "      <td>0.924574</td>\n",
       "      <td>[[294, 2], [29, 86]]</td>\n",
       "      <td>precision    recall  f1-score   ...</td>\n",
       "      <td>0.747826</td>\n",
       "      <td>0.993243</td>\n",
       "    </tr>\n",
       "  </tbody>\n",
       "</table>\n",
       "</div>"
      ],
      "text/plain": [
       "    time_slices  accuracy      confusion_matrix   \n",
       "52           53  0.917275  [[295, 1], [33, 82]]  \\\n",
       "37           38  0.912409  [[295, 1], [35, 80]]   \n",
       "42           43  0.917275  [[295, 1], [33, 82]]   \n",
       "45           46  0.927007  [[295, 1], [29, 86]]   \n",
       "35           36  0.914842  [[295, 1], [34, 81]]   \n",
       "53           54  0.919708  [[294, 2], [31, 84]]   \n",
       "16           17  0.931873  [[294, 2], [26, 89]]   \n",
       "29           30  0.922141  [[294, 2], [30, 85]]   \n",
       "41           42  0.912409  [[294, 2], [34, 81]]   \n",
       "44           45  0.924574  [[294, 2], [29, 86]]   \n",
       "\n",
       "                                               report  recall_1  recall_0  \n",
       "52                precision    recall  f1-score   ...  0.713043  0.996622  \n",
       "37                precision    recall  f1-score   ...  0.695652  0.996622  \n",
       "42                precision    recall  f1-score   ...  0.713043  0.996622  \n",
       "45                precision    recall  f1-score   ...  0.747826  0.996622  \n",
       "35                precision    recall  f1-score   ...  0.704348  0.996622  \n",
       "53                precision    recall  f1-score   ...  0.730435  0.993243  \n",
       "16                precision    recall  f1-score   ...  0.773913  0.993243  \n",
       "29                precision    recall  f1-score   ...  0.739130  0.993243  \n",
       "41                precision    recall  f1-score   ...  0.704348  0.993243  \n",
       "44                precision    recall  f1-score   ...  0.747826  0.993243  "
      ]
     },
     "execution_count": 107,
     "metadata": {},
     "output_type": "execute_result"
    }
   ],
   "source": [
    "df_performance.sort_values(by=\"recall_0\", ascending=False).head(10)"
   ]
  },
  {
   "cell_type": "markdown",
   "metadata": {},
   "source": [
    "### 4. Consider the first 13 time slices"
   ]
  },
  {
   "cell_type": "code",
   "execution_count": 108,
   "id": "74b1eabb-6bd2-40e7-b193-5de9f059bd19",
   "metadata": {},
   "outputs": [],
   "source": [
    "x = []\n",
    "for i in range(0,14,1):\n",
    "    x = x + [f\"{feature}_{i}\" for feature in features]"
   ]
  },
  {
   "cell_type": "code",
   "execution_count": 109,
   "id": "cf4276c0-d495-4d1f-a2cd-4232aa94e087",
   "metadata": {},
   "outputs": [],
   "source": [
    "X_train = df_train[x]\n",
    "y_train = df_train.seizure\n",
    "\n",
    "X_test = df_test[x]\n",
    "y_test = df_test.seizure\n",
    "\n",
    "X_val = df_val[x]\n",
    "y_val = df_val.seizure"
   ]
  },
  {
   "cell_type": "code",
   "execution_count": 110,
   "id": "0d9ca0dc-b96a-4dec-81ab-4336ad2b5558",
   "metadata": {},
   "outputs": [],
   "source": [
    "model, (accuracy, cm, cr, recall_1, recall_0) = fit_and_eval(X_train, y_train, X_test, y_test)"
   ]
  },
  {
   "cell_type": "code",
   "execution_count": 111,
   "id": "a62e6cfb-4ea7-4e6f-b632-8f831eaf2fb6",
   "metadata": {},
   "outputs": [
    {
     "name": "stdout",
     "output_type": "stream",
     "text": [
      "              precision    recall  f1-score   support\n",
      "\n",
      "           0       0.92      0.99      0.96       296\n",
      "           1       0.98      0.78      0.87       115\n",
      "\n",
      "    accuracy                           0.93       411\n",
      "   macro avg       0.95      0.89      0.91       411\n",
      "weighted avg       0.94      0.93      0.93       411\n",
      "\n"
     ]
    }
   ],
   "source": [
    "print(cr)"
   ]
  },
  {
   "cell_type": "code",
   "execution_count": 112,
   "id": "f0dc799a-afd1-4df9-82d8-ea909ede1438",
   "metadata": {},
   "outputs": [
    {
     "name": "stdout",
     "output_type": "stream",
     "text": [
      "[[294   2]\n",
      " [ 25  90]]\n"
     ]
    }
   ],
   "source": [
    "print(cm)"
   ]
  },
  {
   "cell_type": "code",
   "execution_count": 113,
   "metadata": {},
   "outputs": [],
   "source": [
    "model, (accuracy, cm, cr, recall_1, recall_0) = fit_and_eval(pd.concat([X_train, X_test]), pd.concat([y_train, y_test]), X_val, y_val)"
   ]
  },
  {
   "cell_type": "code",
   "execution_count": 114,
   "metadata": {},
   "outputs": [
    {
     "name": "stdout",
     "output_type": "stream",
     "text": [
      "              precision    recall  f1-score   support\n",
      "\n",
      "           0       0.94      0.98      0.96       426\n",
      "           1       0.88      0.67      0.76        83\n",
      "\n",
      "    accuracy                           0.93       509\n",
      "   macro avg       0.91      0.83      0.86       509\n",
      "weighted avg       0.93      0.93      0.93       509\n",
      "\n"
     ]
    }
   ],
   "source": [
    "print(cr)"
   ]
  },
  {
   "cell_type": "code",
   "execution_count": 115,
   "id": "faf44c0c-790d-435f-9d5e-3ee6bb873b20",
   "metadata": {},
   "outputs": [],
   "source": [
    "scaler = StandardScaler()\n",
    "X_train_norm = scaler.fit_transform(X_train)\n",
    "\n",
    "scaler = StandardScaler()\n",
    "X_test_norm = scaler.fit_transform(X_test)\n",
    "\n",
    "scaler = StandardScaler()\n",
    "X_val_norm = scaler.fit_transform(X_val)"
   ]
  },
  {
   "cell_type": "code",
   "execution_count": 116,
   "id": "8cafb486-0451-439d-9804-3f0c4e14561f",
   "metadata": {},
   "outputs": [],
   "source": [
    "pca = PCA(n_components=10)\n",
    "pca.fit(X_train_norm)\n",
    "pca_train = pca.transform(X_train_norm)\n",
    "pca_train_df = pd.DataFrame(pca_train)"
   ]
  },
  {
   "cell_type": "code",
   "execution_count": 117,
   "id": "7fc22c1c-8bd2-40a9-8a6e-310ff6f4ffb9",
   "metadata": {},
   "outputs": [],
   "source": [
    "pca = PCA(n_components=10)\n",
    "pca.fit(X_test_norm)\n",
    "pca_test = pca.transform(X_test_norm)\n",
    "pca_test_df = pd.DataFrame(pca_test)"
   ]
  },
  {
   "cell_type": "code",
   "execution_count": 118,
   "id": "126746ab-f6aa-450b-ba21-28ff45a4b541",
   "metadata": {},
   "outputs": [],
   "source": [
    "model, (accuracy, cm, cr, recall_1, recall_0) = fit_and_eval(pca_train, y_train, pca_test, y_test)"
   ]
  },
  {
   "cell_type": "code",
   "execution_count": 119,
   "id": "c88e4b66-800e-4993-babd-4b20091270d9",
   "metadata": {},
   "outputs": [
    {
     "name": "stdout",
     "output_type": "stream",
     "text": [
      "              precision    recall  f1-score   support\n",
      "\n",
      "           0       0.72      0.93      0.81       296\n",
      "           1       0.24      0.06      0.10       115\n",
      "\n",
      "    accuracy                           0.68       411\n",
      "   macro avg       0.48      0.49      0.45       411\n",
      "weighted avg       0.58      0.68      0.61       411\n",
      "\n"
     ]
    }
   ],
   "source": [
    "print(cr)"
   ]
  },
  {
   "cell_type": "code",
   "execution_count": 120,
   "id": "85ab5647-ea53-47d4-b53b-a5d137c996d6",
   "metadata": {},
   "outputs": [
    {
     "name": "stdout",
     "output_type": "stream",
     "text": [
      "[[274  22]\n",
      " [108   7]]\n"
     ]
    }
   ],
   "source": [
    "print(cm)"
   ]
  },
  {
   "cell_type": "markdown",
   "metadata": {},
   "source": [
    "### 5. Consider time slices before onset"
   ]
  },
  {
   "cell_type": "code",
   "execution_count": 121,
   "metadata": {},
   "outputs": [
    {
     "name": "stdout",
     "output_type": "stream",
     "text": [
      "[creating new connection]\n",
      "(3320, 2092)\n"
     ]
    }
   ],
   "source": [
    "df = load_and_prep_data(window=-18)\n",
    "print(df.shape)\n",
    "df_val, df_test, df_train = train_test_val_split(df)"
   ]
  },
  {
   "cell_type": "code",
   "execution_count": 122,
   "metadata": {},
   "outputs": [],
   "source": [
    "x = []\n",
    "for i in range(14,29,1):\n",
    "    x = x + [f\"{feature}_{i}\" for feature in features]"
   ]
  },
  {
   "cell_type": "code",
   "execution_count": 123,
   "metadata": {},
   "outputs": [],
   "source": [
    "X_train = df_train[x]\n",
    "y_train = df_train.seizure\n",
    "\n",
    "X_test = df_test[x]\n",
    "y_test = df_test.seizure\n",
    "\n",
    "X_val = df_val[x]\n",
    "y_val = df_val.seizure"
   ]
  },
  {
   "cell_type": "code",
   "execution_count": 124,
   "metadata": {},
   "outputs": [],
   "source": [
    "model, (accuracy, cm, cr, recall_1, recall_0) = fit_and_eval(X_train, y_train, X_test, y_test)"
   ]
  },
  {
   "cell_type": "code",
   "execution_count": 125,
   "metadata": {},
   "outputs": [
    {
     "name": "stdout",
     "output_type": "stream",
     "text": [
      "              precision    recall  f1-score   support\n",
      "\n",
      "           0       0.94      0.99      0.97       296\n",
      "           1       0.98      0.83      0.90       115\n",
      "\n",
      "    accuracy                           0.95       411\n",
      "   macro avg       0.96      0.91      0.93       411\n",
      "weighted avg       0.95      0.95      0.95       411\n",
      "\n"
     ]
    }
   ],
   "source": [
    "print(cr)"
   ]
  },
  {
   "cell_type": "code",
   "execution_count": 126,
   "metadata": {},
   "outputs": [],
   "source": [
    "model, (accuracy, cm, cr, recall_1, recall_0) = fit_and_eval(pd.concat([X_train, X_test]), pd.concat([y_train, y_test]), X_val, y_val)"
   ]
  },
  {
   "cell_type": "code",
   "execution_count": 127,
   "metadata": {},
   "outputs": [
    {
     "name": "stdout",
     "output_type": "stream",
     "text": [
      "              precision    recall  f1-score   support\n",
      "\n",
      "           0       0.94      0.99      0.96       426\n",
      "           1       0.92      0.67      0.78        83\n",
      "\n",
      "    accuracy                           0.94       509\n",
      "   macro avg       0.93      0.83      0.87       509\n",
      "weighted avg       0.94      0.94      0.93       509\n",
      "\n"
     ]
    }
   ],
   "source": [
    "print(cr)"
   ]
  },
  {
   "cell_type": "code",
   "execution_count": 128,
   "metadata": {},
   "outputs": [],
   "source": [
    "model, (accuracy, cm, cr, recall_1, recall_0) = fit_and_eval(X_train, y_train , X_val, y_val)"
   ]
  },
  {
   "cell_type": "code",
   "execution_count": 129,
   "metadata": {},
   "outputs": [
    {
     "name": "stdout",
     "output_type": "stream",
     "text": [
      "              precision    recall  f1-score   support\n",
      "\n",
      "           0       0.93      0.99      0.96       426\n",
      "           1       0.93      0.63      0.75        83\n",
      "\n",
      "    accuracy                           0.93       509\n",
      "   macro avg       0.93      0.81      0.85       509\n",
      "weighted avg       0.93      0.93      0.93       509\n",
      "\n"
     ]
    }
   ],
   "source": [
    "print(cr)"
   ]
  }
 ],
 "metadata": {
  "kernelspec": {
   "display_name": "Python [pipenv: uni]",
   "language": "python",
   "name": "uni"
  },
  "orig_nbformat": 4
 },
 "nbformat": 4,
 "nbformat_minor": 2
}
