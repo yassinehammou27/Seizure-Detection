{
 "cells": [
  {
   "cell_type": "code",
   "execution_count": 3,
   "id": "0df4292c-2673-40f1-bf4f-756f28b0a1da",
   "metadata": {
    "tags": []
   },
   "outputs": [],
   "source": [
    "import monipy.utils.database as database\n",
    "import monipy.utils.utils as utils\n",
    "import pandas as pd\n",
    "from monipy.data.TrainingDataSet import TrainingDataSet\n",
    "\n",
    "from monipy.utils import files\n",
    "from monipy.utils import file_paths\n",
    "from monipy.utils.plotting import general\n",
    "\n",
    "import pandas as pd\n",
    "\n",
    "\n",
    "from monipy.data.FeatureTable import FeatureTable\n",
    "from matplotlib import pyplot as plt"
   ]
  },
  {
   "cell_type": "markdown",
   "id": "17ff0e04",
   "metadata": {},
   "source": [
    "Datapackages:\n",
    "- DP_sandor_full\n",
    "- DP_ukt_movisens_full\n",
    "- DP_freiburg_full\n",
    "- DP_uka_klinik_full\n",
    "- DP_uka_corvolution_full\n",
    "- DP_uka_movisens_full\n",
    "\n"
   ]
  },
  {
   "cell_type": "code",
   "execution_count": 2,
   "id": "8473f9b1-600a-483f-a677-9fa36f69a459",
   "metadata": {},
   "outputs": [
    {
     "name": "stdout",
     "output_type": "stream",
     "text": [
      "[creating new connection]\n"
     ]
    }
   ],
   "source": [
    "tds = TrainingDataSet(\n",
    "    data_package_name=\"DP_freiburg_full\", \n",
    "    seizure_types=[\"CPS\"],\n",
    "    class_ratio=10,\n",
    "    total_regular_number=1000,\n",
    "    event_filter_id=4,\n",
    "    sample_windows=[-18, 0],  # [-18, -6, -5, -4, 0],\n",
    "    seed=42,\n",
    "    max_sampling_positions_per_record=40,\n",
    "    verbose=False,\n",
    ")"
   ]
  },
  {
   "cell_type": "code",
   "execution_count": 3,
   "id": "1c1a83df-8f76-4da4-b823-c2f4a36174fe",
   "metadata": {},
   "outputs": [
    {
     "name": "stdout",
     "output_type": "stream",
     "text": [
      "[creating new connection]\n"
     ]
    },
    {
     "name": "stderr",
     "output_type": "stream",
     "text": [
      "Sampling seizures: 100%|██████████| 134/134 [1:05:10<00:00, 29.19s/ Records]\n"
     ]
    },
    {
     "name": "stdout",
     "output_type": "stream",
     "text": [
      "[creating new connection]\n"
     ]
    },
    {
     "name": "stderr",
     "output_type": "stream",
     "text": [
      "Sampling regular:  13%|█▎        | 640/5020 [01:08<05:34, 13.09it/s]"
     ]
    },
    {
     "name": "stdout",
     "output_type": "stream",
     "text": [
      "Index Error in sample_regular_data_from_record on record_id=428: Requested timestamp_start is before record start.\n",
      "\n"
     ]
    },
    {
     "name": "stderr",
     "output_type": "stream",
     "text": [
      "Sampling regular:  54%|█████▍    | 2720/5020 [09:45<07:22,  5.20it/s]"
     ]
    },
    {
     "name": "stdout",
     "output_type": "stream",
     "text": [
      "Index Error in sample_regular_data_from_record on record_id=428: Requested timestamp_start is before record start.\n",
      "\n"
     ]
    },
    {
     "name": "stderr",
     "output_type": "stream",
     "text": [
      "Sampling regular: 100%|██████████| 5020/5020 [16:56<00:00,  4.94it/s]\n"
     ]
    },
    {
     "name": "stdout",
     "output_type": "stream",
     "text": [
      "[creating new connection]\n"
     ]
    }
   ],
   "source": [
    "tds.collect_data()"
   ]
  },
  {
   "cell_type": "code",
   "execution_count": 4,
   "id": "354aba48-c170-4d4a-b12e-d5c8bd4dd9ec",
   "metadata": {},
   "outputs": [],
   "source": [
    "tds.regular_data_df.to_csv(\"freiburg_regular_data.csv\")"
   ]
  },
  {
   "cell_type": "code",
   "execution_count": 5,
   "id": "d4859cfe-2a62-4327-9d89-e42261609eda",
   "metadata": {},
   "outputs": [],
   "source": [
    "tds.seizure_data_df.to_csv(\"freiburg_seizure_data.csv\")"
   ]
  },
  {
   "cell_type": "code",
   "execution_count": 2,
   "id": "6c396ee7",
   "metadata": {},
   "outputs": [],
   "source": [
    "dp_dict = {\n",
    "    \"DP_freiburg_full\": \"freiburg\",\n",
    "    \"DP_sandor_full\": \"sandor\",\n",
    "    \"DP_ukt_movisens_full\": \"ukt\", \n",
    "    \"DP_uka_klinik_full\": \"uka_klinik\", \n",
    "    \"DP_uka_corvolution_full\": \"uka_corvolution\", \n",
    "    \"DP_uka_movisens_full\": \"uka_movisens\",\n",
    "}"
   ]
  },
  {
   "cell_type": "code",
   "execution_count": 3,
   "id": "f2a2aea1-e6b2-4923-83ed-fefea772d89c",
   "metadata": {},
   "outputs": [
    {
     "name": "stdout",
     "output_type": "stream",
     "text": [
      "[creating new connection]\n",
      "[creating new connection]\n"
     ]
    },
    {
     "name": "stderr",
     "output_type": "stream",
     "text": [
      "Sampling seizures: 100%|██████████| 134/134 [36:49<00:00, 16.49s/ Records]\n"
     ]
    },
    {
     "name": "stdout",
     "output_type": "stream",
     "text": [
      "[creating new connection]\n"
     ]
    },
    {
     "name": "stderr",
     "output_type": "stream",
     "text": [
      "Sampling regular: 100%|██████████| 4100/4100 [19:15<00:00,  3.55it/s]\n"
     ]
    },
    {
     "name": "stdout",
     "output_type": "stream",
     "text": [
      "[creating new connection]\n",
      "[creating new connection]\n",
      "[creating new connection]\n"
     ]
    },
    {
     "name": "stderr",
     "output_type": "stream",
     "text": [
      "Sampling seizures: 100%|██████████| 12/12 [04:00<00:00, 20.01s/ Records]\n"
     ]
    },
    {
     "name": "stdout",
     "output_type": "stream",
     "text": [
      "[creating new connection]\n"
     ]
    },
    {
     "name": "stderr",
     "output_type": "stream",
     "text": [
      "Sampling regular: 100%|██████████| 480/480 [01:15<00:00,  6.39it/s]\n"
     ]
    },
    {
     "name": "stdout",
     "output_type": "stream",
     "text": [
      "[creating new connection]\n",
      "[creating new connection]\n",
      "[creating new connection]\n"
     ]
    },
    {
     "name": "stderr",
     "output_type": "stream",
     "text": [
      "Sampling seizures: 100%|██████████| 28/28 [09:22<00:00, 20.08s/ Records]\n"
     ]
    },
    {
     "name": "stdout",
     "output_type": "stream",
     "text": [
      "[creating new connection]\n"
     ]
    },
    {
     "name": "stderr",
     "output_type": "stream",
     "text": [
      "Sampling regular: 100%|██████████| 1100/1100 [05:15<00:00,  3.49it/s]\n"
     ]
    },
    {
     "name": "stdout",
     "output_type": "stream",
     "text": [
      "[creating new connection]\n",
      "[creating new connection]\n",
      "[creating new connection]\n"
     ]
    },
    {
     "name": "stderr",
     "output_type": "stream",
     "text": [
      "Sampling seizures: 100%|██████████| 57/57 [00:21<00:00,  2.70 Records/s]\n"
     ]
    },
    {
     "name": "stdout",
     "output_type": "stream",
     "text": [
      "[creating new connection]\n"
     ]
    },
    {
     "name": "stderr",
     "output_type": "stream",
     "text": [
      "Sampling regular:  75%|███████▌  | 692/920 [00:50<00:14, 16.00it/s]"
     ]
    },
    {
     "name": "stdout",
     "output_type": "stream",
     "text": [
      "Index Error in sample_regular_data_from_record on record_id=51489: Requested timestamp_start is before record start.\n",
      "\n"
     ]
    },
    {
     "name": "stderr",
     "output_type": "stream",
     "text": [
      "Sampling regular:  80%|███████▉  | 732/920 [00:53<00:11, 16.54it/s]"
     ]
    },
    {
     "name": "stdout",
     "output_type": "stream",
     "text": [
      "Index Error in sample_regular_data_from_record on record_id=91026: Requested timestamp_start is before record start.\n",
      "\n"
     ]
    },
    {
     "name": "stderr",
     "output_type": "stream",
     "text": [
      "Sampling regular:  88%|████████▊ | 812/920 [00:57<00:06, 16.67it/s]"
     ]
    },
    {
     "name": "stdout",
     "output_type": "stream",
     "text": [
      "Index Error in sample_regular_data_from_record on record_id=80924: Requested timestamp_start is before record start.\n",
      "\n",
      "Index Error in sample_regular_data_from_record on record_id=80924: Requested timestamp_start is before record start.\n",
      "\n",
      "Index Error in sample_regular_data_from_record on record_id=80924: Requested timestamp_start is before record start.\n",
      "\n"
     ]
    },
    {
     "name": "stderr",
     "output_type": "stream",
     "text": [
      "Sampling regular:  97%|█████████▋| 892/920 [01:01<00:01, 18.91it/s]"
     ]
    },
    {
     "name": "stdout",
     "output_type": "stream",
     "text": [
      "Index Error in sample_regular_data_from_record on record_id=90296: Requested timestamp_start is before record start.\n",
      "\n"
     ]
    },
    {
     "name": "stderr",
     "output_type": "stream",
     "text": [
      "Sampling regular: 100%|██████████| 920/920 [01:03<00:00, 17.57it/s]"
     ]
    },
    {
     "name": "stdout",
     "output_type": "stream",
     "text": [
      "[creating new connection]\n"
     ]
    },
    {
     "name": "stderr",
     "output_type": "stream",
     "text": [
      "Sampling regular: 100%|██████████| 920/920 [01:04<00:00, 14.34it/s]\n"
     ]
    },
    {
     "name": "stdout",
     "output_type": "stream",
     "text": [
      "[creating new connection]\n",
      "[creating new connection]\n"
     ]
    },
    {
     "name": "stderr",
     "output_type": "stream",
     "text": [
      "Sampling seizures: 100%|██████████| 1/1 [00:02<00:00,  2.39s/ Records]\n"
     ]
    },
    {
     "name": "stdout",
     "output_type": "stream",
     "text": [
      "[creating new connection]\n"
     ]
    },
    {
     "name": "stderr",
     "output_type": "stream",
     "text": [
      "Sampling regular: 100%|██████████| 380/380 [02:57<00:00,  2.14it/s]\n"
     ]
    },
    {
     "name": "stdout",
     "output_type": "stream",
     "text": [
      "[creating new connection]\n",
      "[creating new connection]\n",
      "[creating new connection]\n"
     ]
    },
    {
     "name": "stderr",
     "output_type": "stream",
     "text": [
      "Sampling seizures: 100%|██████████| 10/10 [00:06<00:00,  1.65 Records/s]\n"
     ]
    },
    {
     "name": "stdout",
     "output_type": "stream",
     "text": [
      "[creating new connection]\n"
     ]
    },
    {
     "name": "stderr",
     "output_type": "stream",
     "text": [
      "Sampling regular: 100%|██████████| 280/280 [01:28<00:00,  3.17it/s]\n"
     ]
    },
    {
     "name": "stdout",
     "output_type": "stream",
     "text": [
      "[creating new connection]\n"
     ]
    }
   ],
   "source": [
    "for dp, name in dp_dict.items():\n",
    "\n",
    "    tds = TrainingDataSet(\n",
    "    data_package_name=dp, \n",
    "    seizure_types=[\"CPS\"],\n",
    "    class_ratio=10,\n",
    "    total_regular_number=1000,\n",
    "    event_filter_id=3,\n",
    "    sample_windows=[-18, 0],  # [-18, -6, -5, -4, 0],\n",
    "    seed=42,\n",
    "    max_sampling_positions_per_record=40,\n",
    "    verbose=False,\n",
    "    )\n",
    "\n",
    "    tds.collect_data()\n",
    "\n",
    "    tds.regular_data_df.to_csv(f\"{name}_regular_data_3.csv\")\n",
    "    tds.seizure_data_df.to_csv(f\"{name}_seizure_data_3.csv\")\n",
    "\n",
    "\n"
   ]
  },
  {
   "cell_type": "code",
   "execution_count": 4,
   "id": "a5252ec2",
   "metadata": {},
   "outputs": [],
   "source": [
    "dp_dict = {\n",
    "    \"DP_uka_klinik_full\": \"uka_klinik\", \n",
    "    \"DP_uka_corvolution_full\": \"uka_corvolution\", \n",
    "}"
   ]
  },
  {
   "cell_type": "code",
   "execution_count": 5,
   "id": "ebb3f2e1",
   "metadata": {},
   "outputs": [
    {
     "name": "stdout",
     "output_type": "stream",
     "text": [
      "[creating new connection]\n",
      "[creating new connection]\n"
     ]
    },
    {
     "name": "stderr",
     "output_type": "stream",
     "text": [
      "Sampling seizures:   0%|          | 0/1 [00:00<?, ? Records/s]"
     ]
    },
    {
     "name": "stderr",
     "output_type": "stream",
     "text": [
      "Sampling seizures: 100%|██████████| 1/1 [00:01<00:00,  1.85s/ Records]\n"
     ]
    },
    {
     "name": "stdout",
     "output_type": "stream",
     "text": [
      "[creating new connection]\n"
     ]
    },
    {
     "name": "stderr",
     "output_type": "stream",
     "text": [
      "Sampling regular:  12%|█▏        | 120/1000 [00:09<01:03, 13.88it/s]"
     ]
    },
    {
     "ename": "KeyboardInterrupt",
     "evalue": "",
     "output_type": "error",
     "traceback": [
      "\u001b[0;31m---------------------------------------------------------------------------\u001b[0m",
      "\u001b[0;31mKeyboardInterrupt\u001b[0m                         Traceback (most recent call last)",
      "Cell \u001b[0;32mIn[5], line 15\u001b[0m\n\u001b[1;32m      2\u001b[0m \u001b[39mfor\u001b[39;00m f \u001b[39min\u001b[39;00m [\u001b[39m1\u001b[39m]:\n\u001b[1;32m      3\u001b[0m     tds \u001b[39m=\u001b[39m TrainingDataSet(\n\u001b[1;32m      4\u001b[0m     data_package_name\u001b[39m=\u001b[39mdp, \n\u001b[1;32m      5\u001b[0m     seizure_types\u001b[39m=\u001b[39m[\u001b[39m\"\u001b[39m\u001b[39mCPS\u001b[39m\u001b[39m\"\u001b[39m],\n\u001b[0;32m   (...)\u001b[0m\n\u001b[1;32m     12\u001b[0m     verbose\u001b[39m=\u001b[39m\u001b[39mFalse\u001b[39;00m,\n\u001b[1;32m     13\u001b[0m     )\n\u001b[0;32m---> 15\u001b[0m     tds\u001b[39m.\u001b[39;49mcollect_data()\n\u001b[1;32m     17\u001b[0m     tds\u001b[39m.\u001b[39mregular_data_df\u001b[39m.\u001b[39mto_csv(\u001b[39mf\u001b[39m\u001b[39m\"\u001b[39m\u001b[39m{\u001b[39;00mname\u001b[39m}\u001b[39;00m\u001b[39m_regular_data_\u001b[39m\u001b[39m{\u001b[39;00mf\u001b[39m}\u001b[39;00m\u001b[39m.csv\u001b[39m\u001b[39m\"\u001b[39m)\n\u001b[1;32m     18\u001b[0m     tds\u001b[39m.\u001b[39mseizure_data_df\u001b[39m.\u001b[39mto_csv(\u001b[39mf\u001b[39m\u001b[39m\"\u001b[39m\u001b[39m{\u001b[39;00mname\u001b[39m}\u001b[39;00m\u001b[39m_seizure_data_\u001b[39m\u001b[39m{\u001b[39;00mf\u001b[39m}\u001b[39;00m\u001b[39m.csv\u001b[39m\u001b[39m\"\u001b[39m)\n",
      "File \u001b[0;32m~/monikit/monipy/data/TrainingDataSet.py:202\u001b[0m, in \u001b[0;36mTrainingDataSet.collect_data\u001b[0;34m(self)\u001b[0m\n\u001b[1;32m    199\u001b[0m \u001b[39mself\u001b[39m\u001b[39m.\u001b[39m_print(\u001b[39mf\u001b[39m\u001b[39m\"\u001b[39m\u001b[39m\\n\u001b[39;00m\u001b[39m\\n\u001b[39;00m\u001b[39m\\n\u001b[39;00m\u001b[39m{\u001b[39;00m\u001b[39m'\u001b[39m\u001b[39m#\u001b[39m\u001b[39m'\u001b[39m\u001b[39m*\u001b[39m\u001b[39m40\u001b[39m\u001b[39m}\u001b[39;00m\u001b[39m#### seizure sampling done ####\u001b[39m\u001b[39m{\u001b[39;00m\u001b[39m'\u001b[39m\u001b[39m#\u001b[39m\u001b[39m'\u001b[39m\u001b[39m*\u001b[39m\u001b[39m40\u001b[39m\u001b[39m}\u001b[39;00m\u001b[39m\\n\u001b[39;00m\u001b[39m\\n\u001b[39;00m\u001b[39m\\n\u001b[39;00m\u001b[39m\"\u001b[39m)\n\u001b[1;32m    201\u001b[0m \u001b[39m# sample regular data\u001b[39;00m\n\u001b[0;32m--> 202\u001b[0m regular_data, regular_meta_data, _regular_data_df \u001b[39m=\u001b[39m \u001b[39mself\u001b[39;49m\u001b[39m.\u001b[39;49m__sample_regular_data()\n\u001b[1;32m    204\u001b[0m \u001b[39m# add seizure labels\u001b[39;00m\n\u001b[1;32m    205\u001b[0m \u001b[39mself\u001b[39m\u001b[39m.\u001b[39mlabels \u001b[39m=\u001b[39m np\u001b[39m.\u001b[39mappend(\u001b[39mself\u001b[39m\u001b[39m.\u001b[39mlabels, [\u001b[39m0\u001b[39m] \u001b[39m*\u001b[39m \u001b[39mlen\u001b[39m(regular_data))\n",
      "File \u001b[0;32m~/monikit/monipy/data/TrainingDataSet.py:284\u001b[0m, in \u001b[0;36mTrainingDataSet.__sample_regular_data\u001b[0;34m(self)\u001b[0m\n\u001b[1;32m    281\u001b[0m record_id \u001b[39m=\u001b[39m np\u001b[39m.\u001b[39mrandom\u001b[39m.\u001b[39mchoice(\u001b[39mself\u001b[39m\u001b[39m.\u001b[39mrecord_ids)\u001b[39m.\u001b[39mitem()\n\u001b[1;32m    283\u001b[0m \u001b[39m# sample from this record\u001b[39;00m\n\u001b[0;32m--> 284\u001b[0m _featuredata, _metadata, _regular_data_df \u001b[39m=\u001b[39m datatools\u001b[39m.\u001b[39;49msample_regular_data_from_record(\n\u001b[1;32m    285\u001b[0m     record_id\u001b[39m=\u001b[39;49mrecord_id,\n\u001b[1;32m    286\u001b[0m     n_samples\u001b[39m=\u001b[39;49m\u001b[39mmin\u001b[39;49m(\n\u001b[1;32m    287\u001b[0m         samples_to_sample, \u001b[39mself\u001b[39;49m\u001b[39m.\u001b[39;49mmax_sampling_positions_per_record\n\u001b[1;32m    288\u001b[0m     ),\n\u001b[1;32m    289\u001b[0m     event_filter_id\u001b[39m=\u001b[39;49m\u001b[39mself\u001b[39;49m\u001b[39m.\u001b[39;49mevent_filter_id,\n\u001b[1;32m    290\u001b[0m     sample_windows\u001b[39m=\u001b[39;49m\u001b[39mself\u001b[39;49m\u001b[39m.\u001b[39;49msample_windows,\n\u001b[1;32m    291\u001b[0m     seed\u001b[39m=\u001b[39;49m\u001b[39mself\u001b[39;49m\u001b[39m.\u001b[39;49mseed,\n\u001b[1;32m    292\u001b[0m     verbose\u001b[39m=\u001b[39;49m\u001b[39mself\u001b[39;49m\u001b[39m.\u001b[39;49mverbose,\n\u001b[1;32m    293\u001b[0m     con\u001b[39m=\u001b[39;49mcon,\n\u001b[1;32m    294\u001b[0m )\n\u001b[1;32m    296\u001b[0m \u001b[39m# append data fetched from single record\u001b[39;00m\n\u001b[1;32m    297\u001b[0m \u001b[39mif\u001b[39;00m _featuredata\u001b[39m.\u001b[39mshape[\u001b[39m0\u001b[39m] \u001b[39m>\u001b[39m \u001b[39m0\u001b[39m:\n",
      "File \u001b[0;32m~/monikit/monipy/utils/database.py:52\u001b[0m, in \u001b[0;36mcreate_connection.<locals>.wrapper_create_connection\u001b[0;34m(*args, **kwargs)\u001b[0m\n\u001b[1;32m     49\u001b[0m \u001b[39m@wraps\u001b[39m(func)\n\u001b[1;32m     50\u001b[0m \u001b[39mdef\u001b[39;00m \u001b[39mwrapper_create_connection\u001b[39m(\u001b[39m*\u001b[39margs, \u001b[39m*\u001b[39m\u001b[39m*\u001b[39mkwargs):\n\u001b[1;32m     51\u001b[0m     \u001b[39mif\u001b[39;00m \u001b[39m\"\u001b[39m\u001b[39mcon\u001b[39m\u001b[39m\"\u001b[39m \u001b[39min\u001b[39;00m kwargs:\n\u001b[0;32m---> 52\u001b[0m         \u001b[39mreturn\u001b[39;00m func(\u001b[39m*\u001b[39;49margs, \u001b[39m*\u001b[39;49m\u001b[39m*\u001b[39;49mkwargs)\n\u001b[1;32m     53\u001b[0m     \u001b[39melse\u001b[39;00m:\n\u001b[1;32m     54\u001b[0m         \u001b[39mwith\u001b[39;00m get_db_connection() \u001b[39mas\u001b[39;00m con:\n",
      "File \u001b[0;32m~/monikit/monipy/data/tools.py:219\u001b[0m, in \u001b[0;36msample_regular_data_from_record\u001b[0;34m(record_id, n_samples, event_filter_id, sample_windows, seed, verbose, con)\u001b[0m\n\u001b[1;32m    216\u001b[0m raw_meta_data[\u001b[39m\"\u001b[39m\u001b[39mrecord_id\u001b[39m\u001b[39m\"\u001b[39m]\u001b[39m.\u001b[39mappend(record_id)\n\u001b[1;32m    217\u001b[0m raw_meta_data[\u001b[39m\"\u001b[39m\u001b[39mwindow\u001b[39m\u001b[39m\"\u001b[39m]\u001b[39m.\u001b[39mappend(feature_data_item[\u001b[39m\"\u001b[39m\u001b[39mwindow_index\u001b[39m\u001b[39m\"\u001b[39m])\n\u001b[0;32m--> 219\u001b[0m flat_feature_data_df \u001b[39m=\u001b[39m feature_data_item[\u001b[39m\"\u001b[39;49m\u001b[39mfeature_data\u001b[39;49m\u001b[39m\"\u001b[39;49m]\u001b[39m.\u001b[39;49munstack()\u001b[39m.\u001b[39;49mto_frame()\u001b[39m.\u001b[39;49msort_index(level\u001b[39m=\u001b[39;49m\u001b[39m1\u001b[39;49m)\u001b[39m.\u001b[39mT\n\u001b[1;32m    220\u001b[0m flat_feature_data_df[\u001b[39m\"\u001b[39m\u001b[39mseizure_id\u001b[39m\u001b[39m\"\u001b[39m] \u001b[39m=\u001b[39m np\u001b[39m.\u001b[39mNaN\n\u001b[1;32m    221\u001b[0m flat_feature_data_df[\u001b[39m\"\u001b[39m\u001b[39mrecord_id\u001b[39m\u001b[39m\"\u001b[39m] \u001b[39m=\u001b[39m record_id\n",
      "File \u001b[0;32m~/uni/lib/python3.10/site-packages/pandas/core/frame.py:6960\u001b[0m, in \u001b[0;36mDataFrame.sort_index\u001b[0;34m(self, axis, level, ascending, inplace, kind, na_position, sort_remaining, ignore_index, key)\u001b[0m\n\u001b[1;32m   6861\u001b[0m \u001b[39mdef\u001b[39;00m \u001b[39msort_index\u001b[39m(\n\u001b[1;32m   6862\u001b[0m     \u001b[39mself\u001b[39m,\n\u001b[1;32m   6863\u001b[0m     \u001b[39m*\u001b[39m,\n\u001b[0;32m   (...)\u001b[0m\n\u001b[1;32m   6872\u001b[0m     key: IndexKeyFunc \u001b[39m=\u001b[39m \u001b[39mNone\u001b[39;00m,\n\u001b[1;32m   6873\u001b[0m ) \u001b[39m-\u001b[39m\u001b[39m>\u001b[39m DataFrame \u001b[39m|\u001b[39m \u001b[39mNone\u001b[39;00m:\n\u001b[1;32m   6874\u001b[0m \u001b[39m    \u001b[39m\u001b[39m\"\"\"\u001b[39;00m\n\u001b[1;32m   6875\u001b[0m \u001b[39m    Sort object by labels (along an axis).\u001b[39;00m\n\u001b[1;32m   6876\u001b[0m \n\u001b[0;32m   (...)\u001b[0m\n\u001b[1;32m   6958\u001b[0m \u001b[39m    d  4\u001b[39;00m\n\u001b[1;32m   6959\u001b[0m \u001b[39m    \"\"\"\u001b[39;00m\n\u001b[0;32m-> 6960\u001b[0m     \u001b[39mreturn\u001b[39;00m \u001b[39msuper\u001b[39;49m()\u001b[39m.\u001b[39;49msort_index(\n\u001b[1;32m   6961\u001b[0m         axis\u001b[39m=\u001b[39;49maxis,\n\u001b[1;32m   6962\u001b[0m         level\u001b[39m=\u001b[39;49mlevel,\n\u001b[1;32m   6963\u001b[0m         ascending\u001b[39m=\u001b[39;49mascending,\n\u001b[1;32m   6964\u001b[0m         inplace\u001b[39m=\u001b[39;49minplace,\n\u001b[1;32m   6965\u001b[0m         kind\u001b[39m=\u001b[39;49mkind,\n\u001b[1;32m   6966\u001b[0m         na_position\u001b[39m=\u001b[39;49mna_position,\n\u001b[1;32m   6967\u001b[0m         sort_remaining\u001b[39m=\u001b[39;49msort_remaining,\n\u001b[1;32m   6968\u001b[0m         ignore_index\u001b[39m=\u001b[39;49mignore_index,\n\u001b[1;32m   6969\u001b[0m         key\u001b[39m=\u001b[39;49mkey,\n\u001b[1;32m   6970\u001b[0m     )\n",
      "File \u001b[0;32m~/uni/lib/python3.10/site-packages/pandas/core/generic.py:5072\u001b[0m, in \u001b[0;36mNDFrame.sort_index\u001b[0;34m(self, axis, level, ascending, inplace, kind, na_position, sort_remaining, ignore_index, key)\u001b[0m\n\u001b[1;32m   5068\u001b[0m ascending \u001b[39m=\u001b[39m validate_ascending(ascending)\n\u001b[1;32m   5070\u001b[0m target \u001b[39m=\u001b[39m \u001b[39mself\u001b[39m\u001b[39m.\u001b[39m_get_axis(axis)\n\u001b[0;32m-> 5072\u001b[0m indexer \u001b[39m=\u001b[39m get_indexer_indexer(\n\u001b[1;32m   5073\u001b[0m     target, level, ascending, kind, na_position, sort_remaining, key\n\u001b[1;32m   5074\u001b[0m )\n\u001b[1;32m   5076\u001b[0m \u001b[39mif\u001b[39;00m indexer \u001b[39mis\u001b[39;00m \u001b[39mNone\u001b[39;00m:\n\u001b[1;32m   5077\u001b[0m     \u001b[39mif\u001b[39;00m inplace:\n",
      "File \u001b[0;32m~/uni/lib/python3.10/site-packages/pandas/core/sorting.py:82\u001b[0m, in \u001b[0;36mget_indexer_indexer\u001b[0;34m(target, level, ascending, kind, na_position, sort_remaining, key)\u001b[0m\n\u001b[1;32m     61\u001b[0m \u001b[39m\u001b[39m\u001b[39m\"\"\"\u001b[39;00m\n\u001b[1;32m     62\u001b[0m \u001b[39mHelper method that return the indexer according to input parameters for\u001b[39;00m\n\u001b[1;32m     63\u001b[0m \u001b[39mthe sort_index method of DataFrame and Series.\u001b[39;00m\n\u001b[0;32m   (...)\u001b[0m\n\u001b[1;32m     78\u001b[0m \u001b[39m    The indexer for the new index.\u001b[39;00m\n\u001b[1;32m     79\u001b[0m \u001b[39m\"\"\"\u001b[39;00m\n\u001b[1;32m     81\u001b[0m target \u001b[39m=\u001b[39m ensure_key_mapped(target, key, levels\u001b[39m=\u001b[39mlevel)\n\u001b[0;32m---> 82\u001b[0m target \u001b[39m=\u001b[39m target\u001b[39m.\u001b[39;49m_sort_levels_monotonic()\n\u001b[1;32m     84\u001b[0m \u001b[39mif\u001b[39;00m level \u001b[39mis\u001b[39;00m \u001b[39mnot\u001b[39;00m \u001b[39mNone\u001b[39;00m:\n\u001b[1;32m     85\u001b[0m     _, indexer \u001b[39m=\u001b[39m target\u001b[39m.\u001b[39msortlevel(\n\u001b[1;32m     86\u001b[0m         level, ascending\u001b[39m=\u001b[39mascending, sort_remaining\u001b[39m=\u001b[39msort_remaining\n\u001b[1;32m     87\u001b[0m     )\n",
      "File \u001b[0;32m~/uni/lib/python3.10/site-packages/pandas/core/indexes/multi.py:1873\u001b[0m, in \u001b[0;36mMultiIndex._sort_levels_monotonic\u001b[0;34m(self, raise_if_incomparable)\u001b[0m\n\u001b[1;32m   1839\u001b[0m \u001b[39mdef\u001b[39;00m \u001b[39m_sort_levels_monotonic\u001b[39m(\u001b[39mself\u001b[39m, raise_if_incomparable: \u001b[39mbool\u001b[39m \u001b[39m=\u001b[39m \u001b[39mFalse\u001b[39;00m) \u001b[39m-\u001b[39m\u001b[39m>\u001b[39m MultiIndex:\n\u001b[1;32m   1840\u001b[0m \u001b[39m    \u001b[39m\u001b[39m\"\"\"\u001b[39;00m\n\u001b[1;32m   1841\u001b[0m \u001b[39m    This is an *internal* function.\u001b[39;00m\n\u001b[1;32m   1842\u001b[0m \n\u001b[0;32m   (...)\u001b[0m\n\u001b[1;32m   1871\u001b[0m \u001b[39m               )\u001b[39;00m\n\u001b[1;32m   1872\u001b[0m \u001b[39m    \"\"\"\u001b[39;00m\n\u001b[0;32m-> 1873\u001b[0m     \u001b[39mif\u001b[39;00m \u001b[39mself\u001b[39m\u001b[39m.\u001b[39m_is_lexsorted() \u001b[39mand\u001b[39;00m \u001b[39mself\u001b[39;49m\u001b[39m.\u001b[39;49mis_monotonic_increasing:\n\u001b[1;32m   1874\u001b[0m         \u001b[39mreturn\u001b[39;00m \u001b[39mself\u001b[39m\n\u001b[1;32m   1876\u001b[0m     new_levels \u001b[39m=\u001b[39m []\n",
      "File \u001b[0;32m~/uni/lib/python3.10/site-packages/pandas/_libs/properties.pyx:36\u001b[0m, in \u001b[0;36mpandas._libs.properties.CachedProperty.__get__\u001b[0;34m()\u001b[0m\n",
      "File \u001b[0;32m~/uni/lib/python3.10/site-packages/pandas/core/indexes/multi.py:1523\u001b[0m, in \u001b[0;36mMultiIndex.is_monotonic_increasing\u001b[0;34m(self)\u001b[0m\n\u001b[1;32m   1518\u001b[0m     \u001b[39mreturn\u001b[39;00m libalgos\u001b[39m.\u001b[39mis_lexsorted(\n\u001b[1;32m   1519\u001b[0m         [x\u001b[39m.\u001b[39mastype(\u001b[39m\"\u001b[39m\u001b[39mint64\u001b[39m\u001b[39m\"\u001b[39m, copy\u001b[39m=\u001b[39m\u001b[39mFalse\u001b[39;00m) \u001b[39mfor\u001b[39;00m x \u001b[39min\u001b[39;00m \u001b[39mself\u001b[39m\u001b[39m.\u001b[39mcodes]\n\u001b[1;32m   1520\u001b[0m     )\n\u001b[1;32m   1522\u001b[0m \u001b[39m# reversed() because lexsort() wants the most significant key last.\u001b[39;00m\n\u001b[0;32m-> 1523\u001b[0m values \u001b[39m=\u001b[39m [\n\u001b[1;32m   1524\u001b[0m     \u001b[39mself\u001b[39m\u001b[39m.\u001b[39m_get_level_values(i)\u001b[39m.\u001b[39m_values \u001b[39mfor\u001b[39;00m i \u001b[39min\u001b[39;00m \u001b[39mreversed\u001b[39m(\u001b[39mrange\u001b[39m(\u001b[39mlen\u001b[39m(\u001b[39mself\u001b[39m\u001b[39m.\u001b[39mlevels)))\n\u001b[1;32m   1525\u001b[0m ]\n\u001b[1;32m   1526\u001b[0m \u001b[39mtry\u001b[39;00m:\n\u001b[1;32m   1527\u001b[0m     \u001b[39m# error: Argument 1 to \"lexsort\" has incompatible type\u001b[39;00m\n\u001b[1;32m   1528\u001b[0m     \u001b[39m# \"List[Union[ExtensionArray, ndarray[Any, Any]]]\";\u001b[39;00m\n\u001b[0;32m   (...)\u001b[0m\n\u001b[1;32m   1531\u001b[0m     \u001b[39m# int, float, complex, str, bytes, _NestedSequence[Union\u001b[39;00m\n\u001b[1;32m   1532\u001b[0m     \u001b[39m# [bool, int, float, complex, str, bytes]]]\"\u001b[39;00m\n\u001b[1;32m   1533\u001b[0m     sort_order \u001b[39m=\u001b[39m np\u001b[39m.\u001b[39mlexsort(values)  \u001b[39m# type: ignore[arg-type]\u001b[39;00m\n",
      "File \u001b[0;32m~/uni/lib/python3.10/site-packages/pandas/core/indexes/multi.py:1524\u001b[0m, in \u001b[0;36m<listcomp>\u001b[0;34m(.0)\u001b[0m\n\u001b[1;32m   1518\u001b[0m     \u001b[39mreturn\u001b[39;00m libalgos\u001b[39m.\u001b[39mis_lexsorted(\n\u001b[1;32m   1519\u001b[0m         [x\u001b[39m.\u001b[39mastype(\u001b[39m\"\u001b[39m\u001b[39mint64\u001b[39m\u001b[39m\"\u001b[39m, copy\u001b[39m=\u001b[39m\u001b[39mFalse\u001b[39;00m) \u001b[39mfor\u001b[39;00m x \u001b[39min\u001b[39;00m \u001b[39mself\u001b[39m\u001b[39m.\u001b[39mcodes]\n\u001b[1;32m   1520\u001b[0m     )\n\u001b[1;32m   1522\u001b[0m \u001b[39m# reversed() because lexsort() wants the most significant key last.\u001b[39;00m\n\u001b[1;32m   1523\u001b[0m values \u001b[39m=\u001b[39m [\n\u001b[0;32m-> 1524\u001b[0m     \u001b[39mself\u001b[39;49m\u001b[39m.\u001b[39;49m_get_level_values(i)\u001b[39m.\u001b[39m_values \u001b[39mfor\u001b[39;00m i \u001b[39min\u001b[39;00m \u001b[39mreversed\u001b[39m(\u001b[39mrange\u001b[39m(\u001b[39mlen\u001b[39m(\u001b[39mself\u001b[39m\u001b[39m.\u001b[39mlevels)))\n\u001b[1;32m   1525\u001b[0m ]\n\u001b[1;32m   1526\u001b[0m \u001b[39mtry\u001b[39;00m:\n\u001b[1;32m   1527\u001b[0m     \u001b[39m# error: Argument 1 to \"lexsort\" has incompatible type\u001b[39;00m\n\u001b[1;32m   1528\u001b[0m     \u001b[39m# \"List[Union[ExtensionArray, ndarray[Any, Any]]]\";\u001b[39;00m\n\u001b[0;32m   (...)\u001b[0m\n\u001b[1;32m   1531\u001b[0m     \u001b[39m# int, float, complex, str, bytes, _NestedSequence[Union\u001b[39;00m\n\u001b[1;32m   1532\u001b[0m     \u001b[39m# [bool, int, float, complex, str, bytes]]]\"\u001b[39;00m\n\u001b[1;32m   1533\u001b[0m     sort_order \u001b[39m=\u001b[39m np\u001b[39m.\u001b[39mlexsort(values)  \u001b[39m# type: ignore[arg-type]\u001b[39;00m\n",
      "File \u001b[0;32m~/uni/lib/python3.10/site-packages/pandas/core/indexes/multi.py:1604\u001b[0m, in \u001b[0;36mMultiIndex._get_level_values\u001b[0;34m(self, level, unique)\u001b[0m\n\u001b[1;32m   1602\u001b[0m \u001b[39mif\u001b[39;00m unique:\n\u001b[1;32m   1603\u001b[0m     level_codes \u001b[39m=\u001b[39m algos\u001b[39m.\u001b[39munique(level_codes)\n\u001b[0;32m-> 1604\u001b[0m filled \u001b[39m=\u001b[39m algos\u001b[39m.\u001b[39;49mtake_nd(lev\u001b[39m.\u001b[39;49m_values, level_codes, fill_value\u001b[39m=\u001b[39;49mlev\u001b[39m.\u001b[39;49m_na_value)\n\u001b[1;32m   1605\u001b[0m \u001b[39mreturn\u001b[39;00m lev\u001b[39m.\u001b[39m_shallow_copy(filled, name\u001b[39m=\u001b[39mname)\n",
      "File \u001b[0;32m~/uni/lib/python3.10/site-packages/pandas/core/array_algos/take.py:117\u001b[0m, in \u001b[0;36mtake_nd\u001b[0;34m(arr, indexer, axis, fill_value, allow_fill)\u001b[0m\n\u001b[1;32m    114\u001b[0m     \u001b[39mreturn\u001b[39;00m arr\u001b[39m.\u001b[39mtake(indexer, fill_value\u001b[39m=\u001b[39mfill_value, allow_fill\u001b[39m=\u001b[39mallow_fill)\n\u001b[1;32m    116\u001b[0m arr \u001b[39m=\u001b[39m np\u001b[39m.\u001b[39masarray(arr)\n\u001b[0;32m--> 117\u001b[0m \u001b[39mreturn\u001b[39;00m _take_nd_ndarray(arr, indexer, axis, fill_value, allow_fill)\n",
      "File \u001b[0;32m~/uni/lib/python3.10/site-packages/pandas/core/array_algos/take.py:162\u001b[0m, in \u001b[0;36m_take_nd_ndarray\u001b[0;34m(arr, indexer, axis, fill_value, allow_fill)\u001b[0m\n\u001b[1;32m    157\u001b[0m     out \u001b[39m=\u001b[39m np\u001b[39m.\u001b[39mempty(out_shape, dtype\u001b[39m=\u001b[39mdtype)\n\u001b[1;32m    159\u001b[0m func \u001b[39m=\u001b[39m _get_take_nd_function(\n\u001b[1;32m    160\u001b[0m     arr\u001b[39m.\u001b[39mndim, arr\u001b[39m.\u001b[39mdtype, out\u001b[39m.\u001b[39mdtype, axis\u001b[39m=\u001b[39maxis, mask_info\u001b[39m=\u001b[39mmask_info\n\u001b[1;32m    161\u001b[0m )\n\u001b[0;32m--> 162\u001b[0m func(arr, indexer, out, fill_value)\n\u001b[1;32m    164\u001b[0m \u001b[39mif\u001b[39;00m flip_order:\n\u001b[1;32m    165\u001b[0m     out \u001b[39m=\u001b[39m out\u001b[39m.\u001b[39mT\n",
      "\u001b[0;31mKeyboardInterrupt\u001b[0m: "
     ]
    },
    {
     "name": "stderr",
     "output_type": "stream",
     "text": [
      "Sampling regular:  12%|█▏        | 120/1000 [00:28<01:03, 13.88it/s]"
     ]
    }
   ],
   "source": [
    "for dp, name in dp_dict.items():\n",
    "    for f in [1]:\n",
    "        tds = TrainingDataSet(\n",
    "        data_package_name=dp, \n",
    "        seizure_types=[\"CPS\"],\n",
    "        class_ratio=10,\n",
    "        total_regular_number=1000,\n",
    "        event_filter_id=f,\n",
    "        sample_windows=[-18, 0],  # [-18, -6, -5, -4, 0],\n",
    "        seed=42,\n",
    "        max_sampling_positions_per_record=40,\n",
    "        verbose=False,\n",
    "        )\n",
    "\n",
    "        tds.collect_data()\n",
    "\n",
    "        tds.regular_data_df.to_csv(f\"{name}_regular_data_{f}.csv\")\n",
    "        tds.seizure_data_df.to_csv(f\"{name}_seizure_data_{f}.csv\")\n",
    "\n",
    "\n"
   ]
  },
  {
   "cell_type": "code",
   "execution_count": null,
   "id": "3903f51d",
   "metadata": {},
   "outputs": [],
   "source": []
  }
 ],
 "metadata": {
  "kernelspec": {
   "display_name": "Python [pipenv: uni]",
   "language": "python",
   "name": "uni"
  },
  "language_info": {
   "codemirror_mode": {
    "name": "ipython",
    "version": 3
   },
   "file_extension": ".py",
   "mimetype": "text/x-python",
   "name": "python",
   "nbconvert_exporter": "python",
   "pygments_lexer": "ipython3",
   "version": "3.10.6"
  }
 },
 "nbformat": 4,
 "nbformat_minor": 5
}
